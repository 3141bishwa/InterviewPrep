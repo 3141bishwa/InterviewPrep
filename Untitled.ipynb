{
 "cells": [
  {
   "cell_type": "code",
   "execution_count": null,
   "metadata": {
    "collapsed": false,
    "deletable": true,
    "editable": true
   },
   "outputs": [],
   "source": [
    "#Output result template\n",
    "\n",
    "num_results = int(input(\"\"))\n",
    "\n",
    "result = []\n",
    "\n",
    "for x in range(num_results):\n",
    "    n = int(input(\"\"))\n",
    "    arr = [int(x) for x in input(\"\").split(\" \") if x != \"\"]\n",
    "    \n",
    "    result.append(func_name(arr, n))\n",
    "    \n",
    "\n",
    "for x in result:\n",
    "    print(x)"
   ]
  },
  {
   "cell_type": "code",
   "execution_count": 16,
   "metadata": {
    "collapsed": false,
    "deletable": true,
    "editable": true
   },
   "outputs": [
    {
     "name": "stdout",
     "output_type": "stream",
     "text": [
      "1\n",
      "3\n",
      "1 2 3\n",
      "3\n",
      "3\n",
      "6\n",
      "6\n",
      "6\n"
     ]
    }
   ],
   "source": [
    "def largest_subarrray_sum(lst):\n",
    "    curMax = lst[0]\n",
    "    gMax = lst[0]\n",
    "    \n",
    "    for x in xrange(1, len(lst)):\n",
    "        curMax = max(curMax + lst[x], lst[x])\n",
    "        gMax = max(curMax, gMax)\n",
    "    \n",
    "    return gMax\n",
    "\n",
    "num_results = int(raw_input(\"\"))\n",
    "\n",
    "\n",
    "    \n",
    "result = []\n",
    "\n",
    "for x in xrange(num_results):\n",
    "    num_array = int(raw_input(\"\"))\n",
    "    arr = [int(x) for x in raw_input(\"\").split(\" \")]\n",
    "    \n",
    "    result.append(largest_subarrray_sum(arr))\n",
    "    \n",
    "\n",
    "for x in result:\n",
    "    print(x)\n",
    "    \n",
    "    "
   ]
  },
  {
   "cell_type": "markdown",
   "metadata": {},
   "source": [
    "Longest Increasing Subsequence <br>\n",
    "http://practice.geeksforgeeks.org/problems/longest-increasing-subsequence/0"
   ]
  },
  {
   "cell_type": "code",
   "execution_count": 4,
   "metadata": {
    "collapsed": false
   },
   "outputs": [
    {
     "name": "stdout",
     "output_type": "stream",
     "text": [
      "4\n"
     ]
    }
   ],
   "source": [
    "def longest_increasing_subsequence(arr):\n",
    "    dp = [1] * len(arr)\n",
    "    \n",
    "    for x in xrange(1,len(arr)):\n",
    "        for y in xrange(x):\n",
    "            if arr[y] < arr[x]:\n",
    "                dp[x] = max(dp[x], dp[y] + 1)\n",
    "    \n",
    "    return max(dp)\n",
    "\n",
    "\n",
    "print longest_increasing_subsequence([3, 4, -1 , 0 , 6 , 2, 3])\n"
   ]
  },
  {
   "cell_type": "markdown",
   "metadata": {},
   "source": [
    "Longest Common Subsequence <br>\n",
    "\n",
    "http://practice.geeksforgeeks.org/problems/longest-common-subsequence/0\n",
    "\n"
   ]
  },
  {
   "cell_type": "code",
   "execution_count": 38,
   "metadata": {
    "collapsed": false
   },
   "outputs": [
    {
     "name": "stdout",
     "output_type": "stream",
     "text": [
      "0 0\n",
      "0 0 [[0, 0, 0], [0, 1, 0], [0, 0, 0], [0, 0, 0]]\n",
      "0 1\n",
      "0 1 [[0, 0, 0], [0, 1, 1], [0, 0, 0], [0, 0, 0]]\n",
      "0 2\n"
     ]
    },
    {
     "ename": "IndexError",
     "evalue": "list index out of range",
     "output_type": "error",
     "traceback": [
      "\u001b[0;31m---------------------------------------------------------------------------\u001b[0m",
      "\u001b[0;31mIndexError\u001b[0m                                Traceback (most recent call last)",
      "\u001b[0;32m<ipython-input-38-80c0cee1dae2>\u001b[0m in \u001b[0;36m<module>\u001b[0;34m()\u001b[0m\n\u001b[1;32m     17\u001b[0m \u001b[0;34m\u001b[0m\u001b[0m\n\u001b[1;32m     18\u001b[0m \u001b[0;34m\u001b[0m\u001b[0m\n\u001b[0;32m---> 19\u001b[0;31m \u001b[0;32mprint\u001b[0m \u001b[0mlongest_common_subsequence\u001b[0m\u001b[0;34m(\u001b[0m\u001b[0;34m\"ABC\"\u001b[0m\u001b[0;34m,\u001b[0m \u001b[0;34m\"AC\"\u001b[0m\u001b[0;34m)\u001b[0m\u001b[0;34m\u001b[0m\u001b[0m\n\u001b[0m",
      "\u001b[0;32m<ipython-input-38-80c0cee1dae2>\u001b[0m in \u001b[0;36mlongest_common_subsequence\u001b[0;34m(a, b)\u001b[0m\n\u001b[1;32m     10\u001b[0m                     \u001b[0mdp\u001b[0m\u001b[0;34m[\u001b[0m\u001b[0mx\u001b[0m\u001b[0;34m+\u001b[0m\u001b[0;36m1\u001b[0m\u001b[0;34m]\u001b[0m\u001b[0;34m[\u001b[0m\u001b[0my\u001b[0m\u001b[0;34m+\u001b[0m\u001b[0;36m1\u001b[0m\u001b[0;34m]\u001b[0m \u001b[0;34m=\u001b[0m \u001b[0mdp\u001b[0m\u001b[0;34m[\u001b[0m\u001b[0mx\u001b[0m\u001b[0;34m]\u001b[0m\u001b[0;34m[\u001b[0m\u001b[0my\u001b[0m\u001b[0;34m]\u001b[0m \u001b[0;34m+\u001b[0m \u001b[0;36m1\u001b[0m\u001b[0;34m\u001b[0m\u001b[0m\n\u001b[1;32m     11\u001b[0m             \u001b[0;32melse\u001b[0m\u001b[0;34m:\u001b[0m\u001b[0;34m\u001b[0m\u001b[0m\n\u001b[0;32m---> 12\u001b[0;31m                         \u001b[0mdp\u001b[0m\u001b[0;34m[\u001b[0m\u001b[0mx\u001b[0m\u001b[0;34m+\u001b[0m\u001b[0;36m1\u001b[0m\u001b[0;34m]\u001b[0m\u001b[0;34m[\u001b[0m\u001b[0my\u001b[0m\u001b[0;34m+\u001b[0m\u001b[0;36m1\u001b[0m\u001b[0;34m]\u001b[0m \u001b[0;34m=\u001b[0m \u001b[0mmax\u001b[0m\u001b[0;34m(\u001b[0m\u001b[0mdp\u001b[0m\u001b[0;34m[\u001b[0m\u001b[0mx\u001b[0m\u001b[0;34m+\u001b[0m\u001b[0;36m1\u001b[0m\u001b[0;34m]\u001b[0m\u001b[0;34m[\u001b[0m\u001b[0my\u001b[0m\u001b[0;34m]\u001b[0m \u001b[0;34m,\u001b[0m \u001b[0mdp\u001b[0m\u001b[0;34m[\u001b[0m\u001b[0mx\u001b[0m\u001b[0;34m]\u001b[0m\u001b[0;34m[\u001b[0m\u001b[0my\u001b[0m\u001b[0;34m+\u001b[0m\u001b[0;36m1\u001b[0m\u001b[0;34m]\u001b[0m\u001b[0;34m)\u001b[0m\u001b[0;34m\u001b[0m\u001b[0m\n\u001b[0m\u001b[1;32m     13\u001b[0m \u001b[0;34m\u001b[0m\u001b[0m\n\u001b[1;32m     14\u001b[0m             \u001b[0;32mprint\u001b[0m \u001b[0mx\u001b[0m\u001b[0;34m,\u001b[0m\u001b[0my\u001b[0m\u001b[0;34m,\u001b[0m\u001b[0mdp\u001b[0m\u001b[0;34m\u001b[0m\u001b[0m\n",
      "\u001b[0;31mIndexError\u001b[0m: list index out of range"
     ]
    }
   ],
   "source": [
    "def longest_common_subsequence(a, b):\n",
    "    \n",
    "    dp = [[0 for x in xrange(len(b)+1)] for y in xrange(len(a)+1)]\n",
    "    \n",
    "    \n",
    "    \n",
    "    for x in xrange(len(b)):\n",
    "        for y in xrange(len(a)):\n",
    "            print x,y\n",
    "            if a[y] == b[x]:\n",
    "                    dp[x+1][y+1] = dp[x][y] + 1\n",
    "            else:\n",
    "                        dp[x+1][y+1] = max(dp[x+1][y] , dp[x][y+1])\n",
    "    \n",
    "            print x,y,dp\n",
    "        \n",
    "    return dp[len(a) - 1][len(b) - 1]\n",
    "\n",
    "\n",
    "print longest_common_subsequence(\"ABC\", \"AC\")"
   ]
  },
  {
   "cell_type": "code",
   "execution_count": 20,
   "metadata": {
    "collapsed": false,
    "deletable": true,
    "editable": true
   },
   "outputs": [
    {
     "name": "stdout",
     "output_type": "stream",
     "text": [
      "7\n"
     ]
    }
   ],
   "source": [
    "# Longest Distinct Characters in A String\n",
    "# http://practice.geeksforgeeks.org/problems/longest-distinct-characters-in-string/0\n",
    "def longest_distinct(string):\n",
    "    chr_set = set()\n",
    "    \n",
    "    max_len = 0\n",
    "    result = \"\"\n",
    "    for x in string:\n",
    "        if x not in chr_set:\n",
    "            result += x\n",
    "            chr_set.add(x)\n",
    "        else:\n",
    "            if len(result) > max_len:\n",
    "                max_len = len(result)\n",
    "            \n",
    "            chr_set = set()\n",
    "            result = \"\"\n",
    "    \n",
    "    return max_len\n",
    "\n",
    "\n",
    "print longest_distinct(\"geeksforgeeks\")"
   ]
  },
  {
   "cell_type": "code",
   "execution_count": 28,
   "metadata": {
    "collapsed": false,
    "deletable": true,
    "editable": true
   },
   "outputs": [
    {
     "name": "stdout",
     "output_type": "stream",
     "text": [
      "2\n",
      "5\n",
      "1 2 3 5\n",
      "10\n",
      "1 2 3 4 5 6 7 8 10\n",
      "4\n",
      "9\n"
     ]
    }
   ],
   "source": [
    "#Missing number in an array\n",
    "#http://practice.geeksforgeeks.org/problems/missing-number-in-array/0\n",
    "\n",
    "def missing(arr, n):\n",
    "    val = 1.0 * n * (n + 1) / 2\n",
    "    \n",
    "    return int(val - sum(arr))\n",
    "\n",
    "\n",
    "num_results = int(raw_input(\"\"))\n",
    "\n",
    "\n",
    "    \n",
    "result = []\n",
    "\n",
    "for x in xrange(num_results):\n",
    "    n = int(raw_input(\"\"))\n",
    "    arr = [int(x) for x in raw_input(\"\").split(\" \")]\n",
    "    \n",
    "    result.append(missing(arr, n))\n",
    "    \n",
    "\n",
    "for x in result:\n",
    "    print(x)"
   ]
  },
  {
   "cell_type": "code",
   "execution_count": null,
   "metadata": {
    "collapsed": true,
    "deletable": true,
    "editable": true
   },
   "outputs": [],
   "source": [
    "def not_repeated(arr):\n",
    "    return reduce(lambda x,y : x^y , arr)\n",
    "\n",
    "\n",
    "print missing([1,1,2,3,3])"
   ]
  },
  {
   "cell_type": "markdown",
   "metadata": {
    "deletable": true,
    "editable": true
   },
   "source": [
    "Subarray with given sum\n",
    "http://practice.geeksforgeeks.org/problems/subarray-with-given-sum/0"
   ]
  },
  {
   "cell_type": "code",
   "execution_count": 67,
   "metadata": {
    "collapsed": false,
    "deletable": true,
    "editable": true
   },
   "outputs": [
    {
     "name": "stdout",
     "output_type": "stream",
     "text": [
      "-1\n",
      "(2, 5)\n"
     ]
    }
   ],
   "source": [
    "def subarray_given_sum(arr, num):\n",
    "    start = 0\n",
    "    \n",
    "    total = arr[0]\n",
    "    \n",
    "    for x in xrange(1,len(arr)+1):\n",
    "        while(total > num):\n",
    "            total -= arr[start]\n",
    "            start += 1\n",
    "        if total == num:\n",
    "            return start + 1, x\n",
    "        elif total < num and x < len(arr):\n",
    "            total += arr[x]\n",
    "           \n",
    "    return -1\n",
    "\n",
    "\n",
    "print subarray_given_sum([135,101,170,125,79,159,163,65,106,146,82,28,162,92,196,143,28,37,192,5,103,154,93,183,22,117,119,96,48,127,172,139,70,113,68,100,36,95,104,12,123,134], 467)\n",
    "\n",
    "print subarray_given_sum([15, 2, 4, 8, 9, 5, 10, 23], 23)"
   ]
  },
  {
   "cell_type": "markdown",
   "metadata": {
    "deletable": true,
    "editable": true
   },
   "source": [
    "Sort an array of 0s, 1s and 2s\n",
    "http://practice.geeksforgeeks.org/problems/sort-an-array-of-0s-1s-and-2s/0"
   ]
  },
  {
   "cell_type": "code",
   "execution_count": 79,
   "metadata": {
    "collapsed": false,
    "deletable": true,
    "editable": true
   },
   "outputs": [
    {
     "name": "stdout",
     "output_type": "stream",
     "text": [
      "0 0 1 1 2 2\n"
     ]
    }
   ],
   "source": [
    "def sort_zero_one_two(array):\n",
    "    num_dict = dict()\n",
    "    \n",
    "    for x in array:\n",
    "        try:\n",
    "            num_dict[x] += 1\n",
    "        except:\n",
    "            num_dict[x] = 1\n",
    "            \n",
    "    ans = \"\"\n",
    "    \n",
    "    if 0 in num_dict:\n",
    "        ans += \"0 \"*num_dict[0]\n",
    "    if 1 in num_dict:\n",
    "        ans += \"1 \"*num_dict[0]\n",
    "    if 2 in num_dict:\n",
    "        ans += \"2 \"*num_dict[0]\n",
    "    \n",
    "    \n",
    "    return ans[:-1]\n",
    "    \n",
    "print sort_zero_one_two([0 ,2 ,1 ,2 ,0])"
   ]
  },
  {
   "cell_type": "markdown",
   "metadata": {
    "deletable": true,
    "editable": true
   },
   "source": [
    "Equilibrium Point\n",
    "http://practice.geeksforgeeks.org/problems/equilibrium-point/0"
   ]
  },
  {
   "cell_type": "code",
   "execution_count": 87,
   "metadata": {
    "collapsed": false,
    "deletable": true,
    "editable": true
   },
   "outputs": [
    {
     "name": "stdout",
     "output_type": "stream",
     "text": [
      "-1\n"
     ]
    }
   ],
   "source": [
    "def equilibrium(arr):\n",
    "    \n",
    "    if len(arr) == 1:\n",
    "        return arr[0]\n",
    "    \n",
    "    if len(arr) == 2:\n",
    "        return -1\n",
    "    \n",
    "    \n",
    "    total = sum(arr)\n",
    "    \n",
    "    sum_so_far = arr[0]\n",
    "    right_sum = 0\n",
    "    for x in xrange(1,len(arr) - 1):\n",
    "        right_sum = total - sum_so_far - arr[x]\n",
    "    \n",
    "        if sum_so_far == right_sum:\n",
    "            return x + 1\n",
    "        else:\n",
    "            sum_so_far += arr[x]\n",
    "            \n",
    "    \n",
    "    return -1\n",
    "\n",
    "\n",
    "\n",
    "print(equilibrium([1]))\n",
    "        "
   ]
  },
  {
   "cell_type": "markdown",
   "metadata": {
    "deletable": true,
    "editable": true
   },
   "source": [
    "Maximum Sum Increasing Subsequence\n",
    "http://practice.geeksforgeeks.org/problems/maximum-sum-increasing-subsequence/0"
   ]
  },
  {
   "cell_type": "code",
   "execution_count": 89,
   "metadata": {
    "collapsed": false,
    "deletable": true,
    "editable": true
   },
   "outputs": [
    {
     "name": "stdout",
     "output_type": "stream",
     "text": [
      "5\n"
     ]
    }
   ],
   "source": [
    "def max_sum_increasing_subsequence(arr):\n",
    "    max_sum = 0\n",
    "    \n",
    "    sum_so_far = 0\n",
    "    \n",
    "    for x in xrange(0, len(arr) - 1):     \n",
    "        if arr[x] <= arr[x+1]:\n",
    "            sum_so_far += arr[x+1]\n",
    "        else:\n",
    "            if sum_so_far > max_sum:\n",
    "                max_sum = sum_so_far\n",
    "            sum_so_far = 0\n",
    "    \n",
    "    return max_sum\n",
    "\n",
    "print max_sum_increasing_subsequence([1 ,101 ,2 ,3 ,100, 4, 5])\n",
    "            "
   ]
  },
  {
   "cell_type": "markdown",
   "metadata": {},
   "source": [
    "Meta Strings\n",
    "http://practice.geeksforgeeks.org/problems/meta-strings/0"
   ]
  },
  {
   "cell_type": "code",
   "execution_count": 1,
   "metadata": {
    "collapsed": false
   },
   "outputs": [
    {
     "name": "stdout",
     "output_type": "stream",
     "text": [
      "True\n"
     ]
    }
   ],
   "source": [
    "def meta_strings(a,b):\n",
    "    temp = []\n",
    "    for x in xrange(len(a)):\n",
    "        if a[x] != b[x]:\n",
    "            temp.append((a[x] + b[x]))\n",
    "    \n",
    "    \n",
    "    if len(temp) > 2:\n",
    "        return True\n",
    "    \n",
    "    if temp[0][0] == temp[1][1] and temp[0][1] == temp[1][0]:\n",
    "        return True\n",
    "    \n",
    "    return False\n",
    "\n",
    "print meta_strings(\"geeks\", \"keegs\")"
   ]
  }
 ],
 "metadata": {
  "kernelspec": {
   "display_name": "Python 2",
   "language": "python",
   "name": "python2"
  },
  "language_info": {
   "codemirror_mode": {
    "name": "ipython",
    "version": 2
   },
   "file_extension": ".py",
   "mimetype": "text/x-python",
   "name": "python",
   "nbconvert_exporter": "python",
   "pygments_lexer": "ipython2",
   "version": "2.7.12"
  }
 },
 "nbformat": 4,
 "nbformat_minor": 2
}
