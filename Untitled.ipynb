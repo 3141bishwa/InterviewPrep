{
 "cells": [
  {
   "cell_type": "code",
   "execution_count": null,
   "metadata": {
    "collapsed": false,
    "deletable": true,
    "editable": true
   },
   "outputs": [],
   "source": [
    "#Output result template\n",
    "\n",
    "num_results = int(input(\"\"))\n",
    "\n",
    "result = []\n",
    "\n",
    "for x in range(num_results):\n",
    "    n = int(input(\"\"))\n",
    "    arr = [int(x) for x in input(\"\").split(\" \") if x != \"\"]\n",
    "    \n",
    "    result.append(func_name(arr, n))\n",
    "    \n",
    "\n",
    "for x in result:\n",
    "    print(x)"
   ]
  },
  {
   "cell_type": "markdown",
   "metadata": {
    "deletable": true,
    "editable": true
   },
   "source": [
    "Largest Sum Contiguous Subarray <br>\n",
    "http://www.geeksforgeeks.org/largest-sum-contiguous-subarray/\n",
    "\n",
    "Kadane's Algorithm http://practice.geeksforgeeks.org/problems/kadanes-algorithm/0"
   ]
  },
  {
   "cell_type": "code",
   "execution_count": 16,
   "metadata": {
    "collapsed": false,
    "deletable": true,
    "editable": true
   },
   "outputs": [
    {
     "name": "stdout",
     "output_type": "stream",
     "text": [
      "1\n",
      "3\n",
      "1 2 3\n",
      "3\n",
      "3\n",
      "6\n",
      "6\n",
      "6\n"
     ]
    }
   ],
   "source": [
    "def largest_subarrray_sum(lst):\n",
    "    curMax = lst[0]\n",
    "    gMax = lst[0]\n",
    "    \n",
    "    for x in xrange(1, len(lst)):\n",
    "        curMax = max(curMax + lst[x], lst[x])\n",
    "        gMax = max(curMax, gMax)\n",
    "    \n",
    "    return gMax\n",
    "\n",
    "num_results = int(raw_input(\"\"))"
   ]
  },
  {
   "cell_type": "markdown",
   "metadata": {
    "deletable": true,
    "editable": true
   },
   "source": [
    "Longest Increasing Subsequence <br>\n",
    "http://practice.geeksforgeeks.org/problems/longest-increasing-subsequence/0"
   ]
  },
  {
   "cell_type": "code",
   "execution_count": 13,
   "metadata": {
    "collapsed": false,
    "deletable": true,
    "editable": true
   },
   "outputs": [
    {
     "name": "stdout",
     "output_type": "stream",
     "text": [
      "4\n"
     ]
    }
   ],
   "source": [
    "def longest_increasing_subsequence(arr):\n",
    "    dp = [1] * len(arr)\n",
    "    \n",
    "    for x in xrange(1,len(arr)):\n",
    "        for y in xrange(x):\n",
    "            if arr[y] < arr[x]:\n",
    "                dp[x] = max(dp[x], dp[y] + 1)\n",
    "    \n",
    "    return max(dp)\n",
    "\n",
    "\n",
    "print longest_increasing_subsequence([3, 4, -1 , 0 , 6 , 2, 3])\n"
   ]
  },
  {
   "cell_type": "markdown",
   "metadata": {
    "deletable": true,
    "editable": true
   },
   "source": [
    "Longest Increasing Subsequence with returning the sequence <br>\n",
    "\n",
    "http://practice.geeksforgeeks.org/problems/longest-increasing-subsequence/0"
   ]
  },
  {
   "cell_type": "code",
   "execution_count": 14,
   "metadata": {
    "collapsed": false,
    "deletable": true,
    "editable": true
   },
   "outputs": [
    {
     "ename": "SyntaxError",
     "evalue": "invalid syntax (<ipython-input-14-8fcd82412861>, line 9)",
     "output_type": "error",
     "traceback": [
      "\u001b[1;36m  File \u001b[1;32m\"<ipython-input-14-8fcd82412861>\"\u001b[1;36m, line \u001b[1;32m9\u001b[0m\n\u001b[1;33m    if running_length > max\u001b[0m\n\u001b[1;37m                           ^\u001b[0m\n\u001b[1;31mSyntaxError\u001b[0m\u001b[1;31m:\u001b[0m invalid syntax\n"
     ]
    }
   ],
   "source": [
    "def longest_increasing_subsequence_with_sequence(arr):\n",
    "    max_length = 0\n",
    "    \n",
    "    running_length = 0\n",
    "    for x in xrange(len(arr)-1):\n",
    "        if arr[x] > arr[x+1]:\n",
    "            running_length += 1\n",
    "        else:\n",
    "            if running_length > max_length:\n",
    "                max_length = running_length\n",
    "                running_length = 0\n",
    "    \n",
    "    return max_length\n",
    "\n",
    "\n",
    "print longest_increasing_subsequence_with_sequence()"
   ]
  },
  {
   "cell_type": "markdown",
   "metadata": {
    "deletable": true,
    "editable": true
   },
   "source": [
    "Longest Common Subsequence <br>\n",
    "\n",
    "http://practice.geeksforgeeks.org/problems/longest-common-subsequence/0\n",
    "\n"
   ]
  },
  {
   "cell_type": "code",
   "execution_count": 7,
   "metadata": {
    "collapsed": false,
    "deletable": true,
    "editable": true
   },
   "outputs": [
    {
     "name": "stdout",
     "output_type": "stream",
     "text": [
      "2\n"
     ]
    }
   ],
   "source": [
    "def longest_common_subsequence(a, b):\n",
    "    \n",
    "    dp = [[0 for x in xrange(len(b)+1)] for y in xrange(len(a)+1)]\n",
    "    \n",
    "    \n",
    "    \n",
    "    for x in xrange(len(a)+1):\n",
    "        for y in xrange(len(b)+1):\n",
    "            if x ==0 or y == 0:\n",
    "                dp[x][y] = 0\n",
    "            elif a[x-1] == b[y-1]:\n",
    "                dp[x][y] = dp[x-1][y-1] + 1\n",
    "            else:\n",
    "                dp[x][y] = max(dp[x-1][y] , dp[x][y-1])\n",
    "        \n",
    "    return dp[len(a)][len(b)]\n",
    "\n",
    "\n",
    "print longest_common_subsequence(\"ABC\", \"AC\")"
   ]
  },
  {
   "cell_type": "code",
   "execution_count": 102,
   "metadata": {
    "collapsed": false,
    "deletable": true,
    "editable": true
   },
   "outputs": [
    {
     "name": "stdout",
     "output_type": "stream",
     "text": [
      "3\n"
     ]
    }
   ],
   "source": [
    "# Longest Distinct Characters in A String\n",
    "# http://practice.geeksforgeeks.org/problems/longest-distinct-characters-in-string/0\n",
    "def longest_distinct(string):\n",
    "    chr_set = set()\n",
    "    \n",
    "    max_len = 0\n",
    "    result = \"\"\n",
    "    for x in string:\n",
    "        if x not in chr_set:\n",
    "            result += x\n",
    "            chr_set.add(x)\n",
    "        else:\n",
    "            if len(result) > max_len:\n",
    "                max_len = len(result)\n",
    "            \n",
    "            chr_set = set()\n",
    "            result = \"\"\n",
    "    \n",
    "    return max_len\n",
    "\n",
    "\n",
    "print longest_distinct(\"abcad\")"
   ]
  },
  {
   "cell_type": "code",
   "execution_count": 28,
   "metadata": {
    "collapsed": false,
    "deletable": true,
    "editable": true
   },
   "outputs": [
    {
     "name": "stdout",
     "output_type": "stream",
     "text": [
      "2\n",
      "5\n",
      "1 2 3 5\n",
      "10\n",
      "1 2 3 4 5 6 7 8 10\n",
      "4\n",
      "9\n"
     ]
    }
   ],
   "source": [
    "#Missing number in an array\n",
    "#http://practice.geeksforgeeks.org/problems/missing-number-in-array/0\n",
    "\n",
    "def missing(arr, n):\n",
    "    val = 1.0 * n * (n + 1) / 2\n",
    "    \n",
    "    return int(val - sum(arr))\n",
    "\n",
    "\n",
    "num_results = int(raw_input(\"\"))\n",
    "\n",
    "\n",
    "    \n",
    "result = []\n",
    "\n",
    "for x in xrange(num_results):\n",
    "    n = int(raw_input(\"\"))\n",
    "    arr = [int(x) for x in raw_input(\"\").split(\" \")]\n",
    "    \n",
    "    result.append(missing(arr, n))\n",
    "    \n",
    "\n",
    "for x in result:\n",
    "    print(x)"
   ]
  },
  {
   "cell_type": "code",
   "execution_count": null,
   "metadata": {
    "collapsed": true,
    "deletable": true,
    "editable": true
   },
   "outputs": [],
   "source": [
    "def not_repeated(arr):\n",
    "    return reduce(lambda x,y : x^y , arr)\n",
    "\n",
    "\n",
    "print missing([1,1,2,3,3])"
   ]
  },
  {
   "cell_type": "markdown",
   "metadata": {
    "deletable": true,
    "editable": true
   },
   "source": [
    "Subarray with given sum\n",
    "http://practice.geeksforgeeks.org/problems/subarray-with-given-sum/0"
   ]
  },
  {
   "cell_type": "code",
   "execution_count": 67,
   "metadata": {
    "collapsed": false,
    "deletable": true,
    "editable": true
   },
   "outputs": [
    {
     "name": "stdout",
     "output_type": "stream",
     "text": [
      "-1\n",
      "(2, 5)\n"
     ]
    }
   ],
   "source": [
    "def subarray_given_sum(arr, num):\n",
    "    start = 0\n",
    "    \n",
    "    total = arr[0]\n",
    "    \n",
    "    for x in xrange(1,len(arr)+1):\n",
    "        while(total > num):\n",
    "            total -= arr[start]\n",
    "            start += 1\n",
    "        if total == num:\n",
    "            return start + 1, x\n",
    "        elif total < num and x < len(arr):\n",
    "            total += arr[x]\n",
    "           \n",
    "    return -1\n",
    "\n",
    "\n",
    "print subarray_given_sum([135,101,170,125,79,159,163,65,106,146,82,28,162,92,196,143,28,37,192,5,103,154,93,183,22,117,119,96,48,127,172,139,70,113,68,100,36,95,104,12,123,134], 467)\n",
    "\n",
    "print subarray_given_sum([15, 2, 4, 8, 9, 5, 10, 23], 23)"
   ]
  },
  {
   "cell_type": "markdown",
   "metadata": {
    "deletable": true,
    "editable": true
   },
   "source": [
    "Sort an array of 0s, 1s and 2s\n",
    "http://practice.geeksforgeeks.org/problems/sort-an-array-of-0s-1s-and-2s/0"
   ]
  },
  {
   "cell_type": "code",
   "execution_count": 79,
   "metadata": {
    "collapsed": false,
    "deletable": true,
    "editable": true
   },
   "outputs": [
    {
     "name": "stdout",
     "output_type": "stream",
     "text": [
      "0 0 1 1 2 2\n"
     ]
    }
   ],
   "source": [
    "def sort_zero_one_two(array):\n",
    "    num_dict = dict()\n",
    "    \n",
    "    for x in array:\n",
    "        try:\n",
    "            num_dict[x] += 1\n",
    "        except:\n",
    "            num_dict[x] = 1\n",
    "            \n",
    "    ans = \"\"\n",
    "    \n",
    "    if 0 in num_dict:\n",
    "        ans += \"0 \"*num_dict[0]\n",
    "    if 1 in num_dict:\n",
    "        ans += \"1 \"*num_dict[0]\n",
    "    if 2 in num_dict:\n",
    "        ans += \"2 \"*num_dict[0]\n",
    "    \n",
    "    \n",
    "    return ans[:-1]\n",
    "    \n",
    "print sort_zero_one_two([0 ,2 ,1 ,2 ,0])"
   ]
  },
  {
   "cell_type": "markdown",
   "metadata": {
    "deletable": true,
    "editable": true
   },
   "source": [
    "Equilibrium Point\n",
    "http://practice.geeksforgeeks.org/problems/equilibrium-point/0"
   ]
  },
  {
   "cell_type": "code",
   "execution_count": 87,
   "metadata": {
    "collapsed": false,
    "deletable": true,
    "editable": true
   },
   "outputs": [
    {
     "name": "stdout",
     "output_type": "stream",
     "text": [
      "-1\n"
     ]
    }
   ],
   "source": [
    "def equilibrium(arr):\n",
    "    \n",
    "    if len(arr) == 1:\n",
    "        return arr[0]\n",
    "    \n",
    "    if len(arr) == 2:\n",
    "        return -1\n",
    "    \n",
    "    \n",
    "    total = sum(arr)\n",
    "    \n",
    "    sum_so_far = arr[0]\n",
    "    right_sum = 0\n",
    "    for x in xrange(1,len(arr) - 1):\n",
    "        right_sum = total - sum_so_far - arr[x]\n",
    "    \n",
    "        if sum_so_far == right_sum:\n",
    "            return x + 1\n",
    "        else:\n",
    "            sum_so_far += arr[x]\n",
    "            \n",
    "    \n",
    "    return -1\n",
    "\n",
    "\n",
    "\n",
    "print(equilibrium([1]))\n",
    "        "
   ]
  },
  {
   "cell_type": "markdown",
   "metadata": {
    "deletable": true,
    "editable": true
   },
   "source": [
    "Maximum Sum Increasing Subsequence\n",
    "http://practice.geeksforgeeks.org/problems/maximum-sum-increasing-subsequence/0"
   ]
  },
  {
   "cell_type": "code",
   "execution_count": 89,
   "metadata": {
    "collapsed": false,
    "deletable": true,
    "editable": true
   },
   "outputs": [
    {
     "name": "stdout",
     "output_type": "stream",
     "text": [
      "5\n"
     ]
    }
   ],
   "source": [
    "def max_sum_increasing_subsequence(arr):\n",
    "    max_sum = 0\n",
    "    \n",
    "    sum_so_far = 0\n",
    "    \n",
    "    for x in xrange(0, len(arr) - 1):     \n",
    "        if arr[x] <= arr[x+1]:\n",
    "            sum_so_far += arr[x+1]\n",
    "        else:\n",
    "            if sum_so_far > max_sum:\n",
    "                max_sum = sum_so_far\n",
    "            sum_so_far = 0\n",
    "    \n",
    "    return max_sum\n",
    "\n",
    "print max_sum_increasing_subsequence([1 ,101 ,2 ,3 ,100, 4, 5])\n",
    "            "
   ]
  },
  {
   "cell_type": "markdown",
   "metadata": {
    "deletable": true,
    "editable": true
   },
   "source": [
    "Meta Strings\n",
    "http://practice.geeksforgeeks.org/problems/meta-strings/0"
   ]
  },
  {
   "cell_type": "code",
   "execution_count": 1,
   "metadata": {
    "collapsed": false,
    "deletable": true,
    "editable": true
   },
   "outputs": [
    {
     "name": "stdout",
     "output_type": "stream",
     "text": [
      "True\n"
     ]
    }
   ],
   "source": [
    "def meta_strings(a,b):\n",
    "    temp = []\n",
    "    for x in xrange(len(a)):\n",
    "        if a[x] != b[x]:\n",
    "            temp.append((a[x] + b[x]))\n",
    "    \n",
    "    \n",
    "    if len(temp) > 2:\n",
    "        return True\n",
    "    \n",
    "    if temp[0][0] == temp[1][1] and temp[0][1] == temp[1][0]:\n",
    "        return True\n",
    "    \n",
    "    return False\n",
    "\n",
    "print meta_strings(\"geeks\", \"keegs\")"
   ]
  },
  {
   "cell_type": "markdown",
   "metadata": {
    "deletable": true,
    "editable": true
   },
   "source": [
    "0-1 Knapsack Problem <br>\n",
    "http://practice.geeksforgeeks.org/problems/0-1-knapsack-problem/0"
   ]
  },
  {
   "cell_type": "markdown",
   "metadata": {
    "deletable": true,
    "editable": true
   },
   "source": [
    "Ugly Numbers\n",
    "http://www.geeksforgeeks.org/ugly-numbers/"
   ]
  },
  {
   "cell_type": "markdown",
   "metadata": {
    "deletable": true,
    "editable": true
   },
   "source": [
    "Min Cost Path <br>\n",
    "\n",
    "http://www.geeksforgeeks.org/dynamic-programming-set-6-min-cost-path/"
   ]
  },
  {
   "cell_type": "code",
   "execution_count": null,
   "metadata": {
    "collapsed": true,
    "deletable": true,
    "editable": true
   },
   "outputs": [],
   "source": [
    "def min_cost_path(arr,m,n):\n",
    "    \n",
    "    r = len(arr)\n",
    "    c = len(arr[0])\n",
    "    min_cost_arr = [[0 for x in xrange(c)] for y in xrange(r)]\n",
    "    \n",
    "    min_cost_arr[0][0] = arr[0][0]\n",
    "    for x in xrange(m):\n",
    "        for y in yrange(n):\n",
    "            if x == 0:\n",
    "                if y!= 0:\n",
    "                    min_cost_arr[x][y] = min_cost_arr[x][y - 1] + arr[x][y]\n",
    "            elif y == 0:\n",
    "                min_cost_arr[x][y] = min_cost_arr[x - 1][y] + arr[x][y]\n",
    "            else:\n",
    "                min_cost_arr[x][y] = min(min_cost_arr[x-1][y], min_cost_arr[x][y-1], min_cost_arr[x-1][y-1]) + arr[x][y]\n",
    "                \n",
    "    \n",
    "    \n",
    "    return min_cost_arr[m][n]\n",
    "\n",
    "\n",
    "            "
   ]
  },
  {
   "cell_type": "markdown",
   "metadata": {
    "deletable": true,
    "editable": true
   },
   "source": [
    "Coin Change <br>\n",
    "Given a value N, if we want to make change for N cents, and we have infinite supply of each of S = { S1, S2, .. , Sm} valued coins, how many ways can we make the change? The order of coins doesn’t matter. <br>\n",
    "\n",
    "http://practice.geeksforgeeks.org/problems/coin-change/0"
   ]
  },
  {
   "cell_type": "code",
   "execution_count": 3,
   "metadata": {
    "collapsed": false,
    "deletable": true,
    "editable": true
   },
   "outputs": [
    {
     "name": "stdout",
     "output_type": "stream",
     "text": [
      "4\n",
      "5\n"
     ]
    }
   ],
   "source": [
    "#Recursive Solution\n",
    "from rcviz import callgraph, viz\n",
    "\n",
    "def coin_ways_count(arr, val):\n",
    "    if val == 0:\n",
    "        return 1\n",
    "\n",
    "    if val < 0:\n",
    "        return 0\n",
    "    \n",
    "    if len(arr) <= 0 and val > 0:\n",
    "        return 0\n",
    "        \n",
    "    return coin_ways_count(arr[:len(arr)-1], val) + coin_ways_count(arr, val - arr[-1])\n",
    "\n",
    "\n",
    "print coin_ways_count([1 ,2, 3], 4)\n",
    "\n",
    "\n",
    "print coin_ways_count([2 ,5 ,3, 6], 10)\n",
    "\n"
   ]
  },
  {
   "cell_type": "code",
   "execution_count": 1,
   "metadata": {
    "collapsed": false,
    "deletable": true,
    "editable": true
   },
   "outputs": [],
   "source": [
    "#Recursive with memoization\n",
    "num_results = int(input(\"\"))\n",
    "\n",
    "result = []\n",
    "\n",
    "def coin_ways_count_mem(arr, val, visited):\n",
    "    \n",
    "    if (tuple(arr), val) in visited:\n",
    "        return visited[(tuple(arr), val)]\n",
    "        \n",
    "    if val == 0:\n",
    "        return 1\n",
    "\n",
    "    if val < 0:\n",
    "        return 0\n",
    "    \n",
    "    if len(arr) <= 0 and val > 0:\n",
    "        return 0\n",
    "        \n",
    "    ans = coin_ways_count(arr[:len(arr)-1], val, visited) + coin_ways_count(arr, val - arr[-1], visited)\n",
    "    \n",
    "    visited[(tuple(arr), val)] = ans\n",
    "    \n",
    "    \n",
    "    return ans\n"
   ]
  },
  {
   "cell_type": "markdown",
   "metadata": {
    "deletable": true,
    "editable": true
   },
   "source": [
    "Edit Distance <br>\n",
    "\n",
    "http://practice.geeksforgeeks.org/problems/edit-distance/0"
   ]
  },
  {
   "cell_type": "code",
   "execution_count": 10,
   "metadata": {
    "collapsed": false,
    "deletable": true,
    "editable": true
   },
   "outputs": [
    {
     "name": "stdout",
     "output_type": "stream",
     "text": [
      "3\n"
     ]
    }
   ],
   "source": [
    "\n",
    "def pretty_table(table):\n",
    "    for row in table:\n",
    "        for e in row:\n",
    "            print e,\n",
    "        print\n",
    "    print \"\"\n",
    "        \n",
    "def edit_distance(str1, str2):\n",
    "    table = [[0 for x in xrange(len(str2) + 1)] for y in xrange(len(str1) + 1)]\n",
    "    \n",
    "    for x in xrange(len(str1) + 1):\n",
    "        for y in xrange(len(str2) + 1):\n",
    "\n",
    "            if x == 0:\n",
    "                table[x][y] = y\n",
    "            elif y == 0:\n",
    "                table[x][y] = x\n",
    "            \n",
    "            elif str2[y - 1] == str1[x - 1]:\n",
    "                table[x][y] = table[x-1][y-1]\n",
    "                \n",
    "            else:\n",
    "                table[x][y] = 1 + min(table[x-1][y-1], table[x-1][y], table[x][y-1])\n",
    "        \n",
    "                  \n",
    "    \n",
    "    return table[-1][-1]\n",
    "\n",
    "\n",
    "\n",
    "print(edit_distance(\"asd\", \"e\"))\n"
   ]
  },
  {
   "cell_type": "markdown",
   "metadata": {
    "deletable": true,
    "editable": true
   },
   "source": [
    "Cutting Rod <br>\n",
    "\n",
    "http://www.geeksforgeeks.org/dynamic-programming-set-13-cutting-a-rod/\n"
   ]
  },
  {
   "cell_type": "code",
   "execution_count": 74,
   "metadata": {
    "collapsed": false,
    "deletable": true,
    "editable": true
   },
   "outputs": [
    {
     "name": "stdout",
     "output_type": "stream",
     "text": [
      "8\n"
     ]
    }
   ],
   "source": [
    "def max_profit_rod(arr, val):\n",
    "    table = [[0 for x in xrange(val + 1)] for y in xrange(len(arr))]\n",
    "    \n",
    "    \n",
    "    for i in xrange(len(arr)):\n",
    "        for j in xrange(1,val + 1):\n",
    "            if i == 0:\n",
    "                table[i][j] = arr[i]*j\n",
    "            else:\n",
    "                if j < i + 1:\n",
    "                    table[i][j] = table[i-1][j]\n",
    "                else:\n",
    "                    table[i][j] = max(table[i-1][j], arr[i] + table[i][j - (i+1)])\n",
    "    \n",
    "    return table[-1][-1]\n",
    "\n",
    "\n",
    "print max_profit_rod([2, 1 ,1], 4)\n",
    "    \n",
    "    \n",
    "    "
   ]
  },
  {
   "cell_type": "markdown",
   "metadata": {
    "deletable": true,
    "editable": true
   },
   "source": [
    "Subset Sum Problem\n",
    "http://www.geeksforgeeks.org/dynamic-programming-subset-sum-problem/"
   ]
  },
  {
   "cell_type": "code",
   "execution_count": 81,
   "metadata": {
    "collapsed": false,
    "deletable": true,
    "editable": true
   },
   "outputs": [
    {
     "name": "stdout",
     "output_type": "stream",
     "text": [
      "True\n"
     ]
    }
   ],
   "source": [
    "def is_subset_sum_rec(arr, val):\n",
    "    \n",
    "    if val == 0:\n",
    "        return True\n",
    "    \n",
    "    if len(arr) == 0 and val != 0:\n",
    "        return False\n",
    "    \n",
    "    if len(arr) == 1 and arr[0] > val:\n",
    "        return False\n",
    "    return is_subset_sum(arr[:len(arr) - 1 ], val) or is_subset_sum(arr, val - arr[-1])\n",
    "\n",
    "\n",
    "print is_subset_sum([3, 34, 4, 12, 5, 2], 9)\n",
    "\n",
    "\n"
   ]
  },
  {
   "cell_type": "code",
   "execution_count": 94,
   "metadata": {
    "collapsed": false,
    "deletable": true,
    "editable": true
   },
   "outputs": [
    {
     "name": "stdout",
     "output_type": "stream",
     "text": [
      "True\n"
     ]
    }
   ],
   "source": [
    "def is_subset_sum_dp(arr, val):\n",
    "    table = [[None for x in xrange(val+1)] for y in xrange(len(arr))]\n",
    "    \n",
    "    \n",
    "    for i in xrange(len(arr)):\n",
    "        for j in xrange(val+1):\n",
    "            if j == 0:\n",
    "                table[i][j] = True\n",
    "            elif i == 0:\n",
    "                table[i][j] = arr[i] == j\n",
    "            elif arr[i] == j:\n",
    "                table[i][j] = True\n",
    "            elif j < arr[i]:\n",
    "                table[i][j] = table[i - 1][j]\n",
    "            else:\n",
    "                table[i][j]  = table[i - 1][j] or table[i - 1][j - arr[i]]\n",
    "        \n",
    "        \n",
    "    return table[-1][-1]\n",
    "\n",
    "print is_subset_sum_dp([3, 34, 4, 12, 5, 2], 9)"
   ]
  },
  {
   "cell_type": "markdown",
   "metadata": {
    "deletable": true,
    "editable": true
   },
   "source": [
    "Length of longest substring without repeating characters <br>\n",
    "\n",
    "http://www.geeksforgeeks.org/length-of-the-longest-substring-without-repeating-characters/\n",
    "    \n"
   ]
  },
  {
   "cell_type": "code",
   "execution_count": 101,
   "metadata": {
    "collapsed": false,
    "deletable": true,
    "editable": true
   },
   "outputs": [
    {
     "name": "stdout",
     "output_type": "stream",
     "text": [
      "0 1\n",
      "1 2\n",
      "2 1\n",
      "3 2\n",
      "4 3\n",
      "5 4\n",
      "6 5\n",
      "7 6\n",
      "8 8\n",
      "9 7\n",
      "10 1\n",
      "11 8\n",
      "12 8\n",
      "8\n"
     ]
    }
   ],
   "source": [
    "def longest_distinct_substring(string):\n",
    "    longest = 0\n",
    "    longest_so_far = 0\n",
    "    visited = dict()\n",
    "    \n",
    "    for x in xrange(len(string)):\n",
    "        if string[x] not in visited:\n",
    "            visited[string[x]] = x\n",
    "            longest_so_far += 1\n",
    "        else:\n",
    "            longest = max(longest, longest_so_far)\n",
    "            longest_so_far = x - visited[string[x]]\n",
    "            visited[string[x]] = x\n",
    "        \n",
    "        print x, longest_so_far\n",
    "    if longest_so_far > longest:\n",
    "        return longest_so_far\n",
    "    \n",
    "    return longest\n",
    "                \n",
    "print longest_distinct_substring(\"GEEKSFORGEEKS\")"
   ]
  },
  {
   "cell_type": "markdown",
   "metadata": {
    "deletable": true,
    "editable": true
   },
   "source": [
    "Reach Destination of a Maze <br>\n",
    "http://www.geeksforgeeks.org/count-number-ways-reach-destination-maze/"
   ]
  },
  {
   "cell_type": "code",
   "execution_count": 17,
   "metadata": {
    "collapsed": false,
    "deletable": true,
    "editable": true
   },
   "outputs": [
    {
     "name": "stdout",
     "output_type": "stream",
     "text": [
      "1 1 1 1\n",
      "1 0 1 2\n",
      "0 0 1 3\n",
      "0 0 1 4\n",
      "\n",
      "4\n"
     ]
    }
   ],
   "source": [
    "def ways_to_destination(arr):\n",
    "    \n",
    "    c = len(arr[0])\n",
    "    r = len(arr)\n",
    "    \n",
    "    table = [[0 for x in xrange(c)] for y in xrange(r)]\n",
    "    table[0][0] = 1\n",
    "    \n",
    "    for x in xrange(1,r):\n",
    "        if arr[x][0] == -1:\n",
    "            table[x][0] = 0\n",
    "        else:\n",
    "            table[x][0] = table[x - 1][0]\n",
    "    \n",
    "    for y in xrange(1,c):\n",
    "        if arr[0][y] == -1:\n",
    "            table[0][y] = 0\n",
    "        else:\n",
    "            table[0][y] = table[0][y-1]\n",
    "    \n",
    "    \n",
    "    for x in xrange(1,r):\n",
    "        for y in xrange(1,c):\n",
    "            if arr[x][y] == -1:\n",
    "                table[x][y] = 0\n",
    "            else:\n",
    "                table[x][y] = table[x-1][y] + table[x][y - 1]\n",
    "    \n",
    "    return table[-1][-1]\n",
    "\n",
    "\n",
    "arr = [[0,  0, 0, 0],[0, -1, 0, 0], [-1, 0, 0, 0], [0,  0, 0, 0]];\n",
    "print ways_to_destination(arr)\n",
    "                \n",
    "\n",
    "num_results = int(input(\"\"))\n",
    "\n",
    "result = []\n",
    "\n",
    "for x in range(num_results):\n",
    "    temp = [int(x) for x in input(\"\").split(\" \") if x != \"\"]\n",
    "    r,c = arr[:2]\n",
    "    \n",
    "    arr = [[0 for x in xrange(c)] for y in xrange(r)]\n",
    "    temp = [int(x) for x in input(\"\").split(\" \") if x != \"\"]\n",
    "    result.append(func_name(arr, n))\n",
    "    \n",
    "\n",
    "for x in result:\n",
    "    print(x)\n",
    "            \n",
    "    \n",
    "    \n",
    "    \n",
    "    \n",
    "    "
   ]
  },
  {
   "cell_type": "code",
   "execution_count": 17,
   "metadata": {
    "collapsed": false,
    "deletable": true,
    "editable": true
   },
   "outputs": [
    {
     "name": "stdout",
     "output_type": "stream",
     "text": [
      "['5', 1]\n",
      "['6', '3']\n",
      "[5, 1]\n",
      "[6, 3]\n",
      "27+21i\n",
      "['5', '-1']\n",
      "['6', '-3']\n",
      "[5, -1]\n",
      "[6, -3]\n",
      "27+-21i\n"
     ]
    }
   ],
   "source": [
    "def get_tuple(a):\n",
    "    a_list = []\n",
    "    num = \"\"\n",
    "    for x in a:\n",
    "        if x == \"+\":\n",
    "            if not num:\n",
    "                a_list.append(0)\n",
    "            else:\n",
    "                a_list.append(num)\n",
    "            num = \"\"\n",
    "        elif x == \"i\":\n",
    "            if not num:\n",
    "                a_list.append(1)\n",
    "            else:\n",
    "                a_list.append(num)\n",
    "        else:\n",
    "            num += x\n",
    "    \n",
    "    print a_list\n",
    "    return [int(x) for x in a_list]\n",
    "\n",
    "def complex_add(a,b):\n",
    "    a_list, b_list = (get_tuple(a), get_tuple(b))\n",
    "    \n",
    "    print a_list\n",
    "    print b_list\n",
    "    return \"%s+%si\"%(a_list[0]*b_list[0] - a_list[1]*b_list[1],a_list[0]*b_list[1] + a_list[1]*b_list[0])\n",
    "    \n",
    "    \n",
    "print complex_add(\"5+i\", \"6+3i\")\n",
    "print complex_add(\"5+-1i\", \"6+-3i\")\n",
    "    "
   ]
  },
  {
   "cell_type": "code",
   "execution_count": 10,
   "metadata": {
    "collapsed": false,
    "deletable": true,
    "editable": true
   },
   "outputs": [
    {
     "ename": "SyntaxError",
     "evalue": "invalid syntax (<ipython-input-10-878e08b0c9cf>, line 1)",
     "output_type": "error",
     "traceback": [
      "\u001b[1;36m  File \u001b[1;32m\"<ipython-input-10-878e08b0c9cf>\"\u001b[1;36m, line \u001b[1;32m1\u001b[0m\n\u001b[1;33m    )\u001b[0m\n\u001b[1;37m    ^\u001b[0m\n\u001b[1;31mSyntaxError\u001b[0m\u001b[1;31m:\u001b[0m invalid syntax\n"
     ]
    }
   ],
   "source": []
  },
  {
   "cell_type": "code",
   "execution_count": 47,
   "metadata": {
    "collapsed": false,
    "deletable": true,
    "editable": true,
    "scrolled": true
   },
   "outputs": [
    {
     "name": "stdout",
     "output_type": "stream",
     "text": [
      "Final is:\n",
      "[]\n",
      "Final is:\n",
      "[[5, 4, 11, 2]]\n",
      "Final is:\n",
      "[[5, 4, 11, 2]]\n",
      "Final is:\n",
      "[[5, 4, 11, 2]]\n",
      "Final is:\n",
      "[[5, 4, 11, 2], [5, 8, 4, 5]]\n",
      "Final is:\n",
      "[[5, 4, 11, 2], [5, 8, 4, 5]]\n",
      "Final is:\n",
      "[[5, 4, 11, 2], [5, 8, 4, 5]]\n",
      "Final is:\n",
      "[[5, 4, 11, 2], [5, 8, 4, 5]]\n",
      "[[5, 4, 11, 2], [5, 8, 4, 5]]\n"
     ]
    }
   ],
   "source": [
    "\n",
    "#Path Sum II\n",
    "#Leetcode\n",
    "\n",
    "import copy\n",
    "\n",
    "# Definition for a binary tree node.\n",
    "class TreeNode(object):\n",
    "    def __init__(self, x):\n",
    "        self.val = x\n",
    "        self.left = None\n",
    "        self.right = None\n",
    "\n",
    "class Solution(object):\n",
    "    def dfs(self, node, current, final, total):\n",
    "        if node is None:\n",
    "            return\n",
    "\n",
    "        current.append(node.val)\n",
    "          \n",
    "        if node.right is None and node.left is None and node.val == total:        \n",
    "            z = copy.deepcopy(current)\n",
    "            final.append(z)\n",
    "            current.pop()\n",
    "            return\n",
    "        else:\n",
    "            self.dfs(node.left, current, final, total - node.val)\n",
    "            self.dfs(node.right, current, final, total - node.val)\n",
    "        \n",
    "        print \"Final is:\" \n",
    "        print final\n",
    "        current.pop()\n",
    "        \n",
    "        \n",
    "    def pathSum(self, root, total):\n",
    "        \"\"\"\n",
    "        :type root: TreeNode\n",
    "        :type sum: int\n",
    "        :rtype: List[List[int]]\n",
    "        \"\"\"\n",
    "        current = []\n",
    "        final = []\n",
    "        self.dfs(root, current, final, total)\n",
    "        \n",
    "        return final\n",
    "\n",
    "    \n",
    "root = TreeNode(5)\n",
    "root.left = TreeNode(4)\n",
    "root.right = TreeNode(8)\n",
    "root.left.left = TreeNode(11)\n",
    "root.left.left.left = TreeNode(7)\n",
    "root.left.left.right = TreeNode(2)\n",
    "root.right.left = TreeNode(13)\n",
    "root.right.right = TreeNode(4)\n",
    "root.right.right.left = TreeNode(5)\n",
    "root.right.right.right = TreeNode(1)\n",
    "\n",
    "solution = Solution()\n",
    "\n",
    "\n",
    "print solution.pathSum(root, 22)\n"
   ]
  },
  {
   "cell_type": "code",
   "execution_count": 5,
   "metadata": {
    "collapsed": false,
    "deletable": true,
    "editable": true
   },
   "outputs": [
    {
     "name": "stdout",
     "output_type": "stream",
     "text": [
      "[10, 8, 6, 4, 2, 0, -2]\n"
     ]
    }
   ],
   "source": []
  },
  {
   "cell_type": "code",
   "execution_count": 38,
   "metadata": {
    "collapsed": false,
    "deletable": true,
    "editable": true
   },
   "outputs": [
    {
     "name": "stdout",
     "output_type": "stream",
     "text": [
      "[[5], [8, 4], [11, 13, 4], [1, 5, 2, 7]]\n"
     ]
    }
   ],
   "source": [
    "#ZigZag Level Order Binary Tree Traversal\n",
    "#Leetcode\n",
    "\n",
    "from collections import deque\n",
    "\n",
    "\n",
    "def zigZagBinaryTreeTraversal(node):\n",
    "    \n",
    "    stack = deque([node])\n",
    "    \n",
    "    result = []\n",
    "    while stack:\n",
    "        level = []\n",
    "        for x in xrange(len(stack)):\n",
    "            temp = stack.popleft()\n",
    "            \n",
    "            \n",
    "            if temp.left:\n",
    "                stack.append(temp.left)\n",
    "            \n",
    "            if temp.right:\n",
    "                stack.append(temp.right)\n",
    "            \n",
    "            level.append(temp.val)\n",
    "        \n",
    "        \n",
    "        level = level if len(result) % 2 == 0 else level[::-1]\n",
    "        \n",
    "        result.append(level)\n",
    "            \n",
    "\n",
    "    return result\n",
    "\n",
    "\n",
    "\n",
    "print zigZagBinaryTreeTraversal(root)\n",
    "\n",
    "            \n",
    "            "
   ]
  },
  {
   "cell_type": "code",
   "execution_count": 48,
   "metadata": {
    "collapsed": false,
    "deletable": true,
    "editable": true
   },
   "outputs": [
    {
     "name": "stdout",
     "output_type": "stream",
     "text": [
      "8\n"
     ]
    }
   ],
   "source": [
    "#Max Width of Binary Tree\n",
    "#https://leetcode.com/problems/maximum-width-of-binary-tree/description/\n",
    "\n",
    "from collections import deque\n",
    "\n",
    "\n",
    "def max_width(node):\n",
    "    \n",
    "    stack = [(node,0,0)]\n",
    "    \n",
    "    \n",
    "    for node, depth, pos in stack:\n",
    "        if node:\n",
    "            stack.append((node.right, depth + 1, pos*2))\n",
    "            stack.append((node.right, depth + 1, pos*2 + 1))\n",
    "        \n",
    "    "
   ]
  },
  {
   "cell_type": "code",
   "execution_count": 54,
   "metadata": {
    "collapsed": false,
    "deletable": true,
    "editable": true
   },
   "outputs": [
    {
     "name": "stdout",
     "output_type": "stream",
     "text": [
      "1\n"
     ]
    }
   ],
   "source": [
    "#Number of connected components of an undirected graph\n",
    "\n",
    "from collections import deque\n",
    "from collections import defaultdict\n",
    "\n",
    "\n",
    "\n",
    "class Graph:\n",
    "    \n",
    "    def __init__(self):\n",
    "        self.adj_list = defaultdict(list)\n",
    "        \n",
    "    \n",
    "    def add_edge(self,a,b):\n",
    "        self.adj_list[a].append(b)\n",
    "        self.adj_list[b].append(a)\n",
    "        \n",
    "    \n",
    "    def num_connected_components(self):\n",
    "        \n",
    "        visited = set()\n",
    "        count = 0\n",
    "        \n",
    "        for k,v in self.adj_list.iteritems():\n",
    "            \n",
    "            stack = deque()\n",
    "            if k not in visited:\n",
    "                stack.append(k)\n",
    "                \n",
    "                while stack:\n",
    "                    temp = stack.popleft()\n",
    "                    \n",
    "                    \n",
    "                    if temp not in visited:\n",
    "                        visited.add(temp)\n",
    "                        stack.extend(self.adj_list[temp])\n",
    "                \n",
    "                count+=1\n",
    "            \n",
    "        \n",
    "        return count\n",
    "    \n",
    "\n",
    "g = Graph()\n",
    "\n",
    "g.add_edge(1,0)\n",
    "g.add_edge(1,2)\n",
    "g.add_edge(3,4)\n",
    "\n",
    "\n",
    "\n",
    "print g.num_connected_components()\n",
    "\n",
    "\n"
   ]
  },
  {
   "cell_type": "code",
   "execution_count": 3,
   "metadata": {
    "collapsed": false,
    "deletable": true,
    "editable": true
   },
   "outputs": [
    {
     "name": "stdout",
     "output_type": "stream",
     "text": [
      "[6.0, 0.5, -1.0, 1.0, -1.0]\n"
     ]
    }
   ],
   "source": [
    "#Evaluate Division\n",
    "#https://leetcode.com/problems/evaluate-division/description/\n",
    "\n",
    "from collections import defaultdict\n",
    "\n",
    "class Graph2:\n",
    "    \n",
    "    def __init__(self):\n",
    "        self.adj_list = defaultdict(list)\n",
    "        \n",
    "    \n",
    "    def add_edge(self,a,b,val):\n",
    "        self.adj_list[a].append((b,val))\n",
    "        self.adj_list[b].append((a,1/val))\n",
    "        \n",
    "        \n",
    "    def divide(self,a,b):\n",
    "        \n",
    "        \n",
    "        \n",
    "        if a not in self.adj_list or b not in self.adj_list:\n",
    "            return -1.0\n",
    "        \n",
    "        \n",
    "        val = 1.0\n",
    "        \n",
    "        \n",
    "        stack = []\n",
    "        visited = set()\n",
    "        \n",
    "        stack.append((a,val))\n",
    "        visited.add(a)\n",
    "        \n",
    "        while stack:\n",
    "            temp = stack.pop(0)\n",
    "            \n",
    "            \n",
    "            vals = self.adj_list[temp[0]]\n",
    "            \n",
    "            for char, val in vals:\n",
    "                new_val = val * temp[1]\n",
    "\n",
    "                if char == b:\n",
    "                    return new_val\n",
    "                    \n",
    "                \n",
    "                if char not in visited:\n",
    "                    stack.append((char, new_val))    \n",
    "                    visited.add(char)\n",
    "                    \n",
    "                \n",
    "        return -1\n",
    "                    \n",
    "           \n",
    "\n",
    "\n",
    "\n",
    "def calcEquation(equations, values, queries):\n",
    "    g = Graph2()\n",
    "    \n",
    "    for x,y in enumerate(equations):\n",
    "        g.add_edge (y[0], y[1], values[x])\n",
    "        \n",
    "    \n",
    "    result = []\n",
    "    for x in queries:\n",
    "        result.append(g.divide(x[0],x[1]))\n",
    "        \n",
    "    return result\n",
    "\n",
    "\n",
    "print calcEquation([ [\"a\", \"b\"], [\"b\", \"c\"] ], [2.0, 3.0], [ [\"a\", \"c\"], [\"b\", \"a\"], [\"a\", \"e\"], [\"a\", \"a\"], [\"x\", \"x\"] ])"
   ]
  },
  {
   "cell_type": "code",
   "execution_count": 17,
   "metadata": {
    "collapsed": false,
    "deletable": true,
    "editable": true
   },
   "outputs": [
    {
     "name": "stdout",
     "output_type": "stream",
     "text": [
      "[(1, None)]\n",
      "[(2, 1)]\n",
      "[(1, 2), (3, 2)]\n",
      "[(3, 2), (2, 1)]\n",
      "[(2, 1), (2, 3), (4, 3)]\n",
      "False\n"
     ]
    }
   ],
   "source": [
    "class Graph3:\n",
    "    \n",
    "    def __init__(self):\n",
    "        self.adj_list = defaultdict(list)\n",
    "        \n",
    "    \n",
    "    def add_edge(self,a,b):\n",
    "        self.adj_list[a].append(b)\n",
    "        self.adj_list[b].append(a)\n",
    "    \n",
    "    \n",
    "    def isValidTree(self):\n",
    "        \n",
    "        \n",
    "        visited = set()\n",
    "        for k ,v in self.adj_list.iteritems():\n",
    "            \n",
    "            if k not in visited:\n",
    "                \n",
    "            stack = []\n",
    "            \n",
    "            head = None\n",
    "            \n",
    "            stack.append((k,head))\n",
    "          \n",
    "            while stack:\n",
    "                \n",
    "                print stack\n",
    "                temp = stack.pop(0)\n",
    "\n",
    "                if temp not in visited:\n",
    "                    visited.add(temp)\n",
    "                    stack.extend([(x,temp[0]) for x in self.adj_list[temp[0]]])\n",
    "                else:\n",
    "                    \n",
    "                    return False\n",
    "                \n",
    "                \n",
    "        return True\n",
    "    \n",
    "\n",
    "g = Graph3()\n",
    "\n",
    "g.add_edge(1,2)\n",
    "g.add_edge(2,3)\n",
    "g.add_edge(3,4)\n",
    "\n",
    "\n",
    "\n",
    "                    \n",
    "                \n",
    "print g.isValidTree()\n",
    "                \n",
    "        "
   ]
  },
  {
   "cell_type": "code",
   "execution_count": 22,
   "metadata": {
    "collapsed": false,
    "deletable": true,
    "editable": true
   },
   "outputs": [
    {
     "name": "stdout",
     "output_type": "stream",
     "text": [
      "2\n"
     ]
    }
   ],
   "source": [
    "#Minimum Depth of a tree\n",
    "\n",
    "import math\n",
    "\n",
    "def treeMinDepth(node):\n",
    "    \n",
    "    if node is None:\n",
    "        return float('inf')\n",
    "    \n",
    "    \n",
    "    left = treeMinDepth(node.left)\n",
    "    right = treeMinDepth(node.right)\n",
    "    \n",
    "    if math.isinf(left) and math.isinf(right):\n",
    "        return 1\n",
    "    \n",
    "    minimum = min(left, right) + 1\n",
    "    \n",
    "    return minimum\n",
    "\n",
    "\n",
    "class TreeNode(object):\n",
    "    def __init__(self, x):\n",
    "        self.val = x\n",
    "        self.left = None\n",
    "        self.right = None\n",
    "        \n",
    "        \n",
    "node = TreeNode(10)\n",
    "node.left = TreeNode(5)\n",
    "\n",
    "\n",
    "print treeMinDepth(node)\n",
    "\n"
   ]
  },
  {
   "cell_type": "code",
   "execution_count": 27,
   "metadata": {
    "collapsed": false,
    "deletable": true,
    "editable": true
   },
   "outputs": [
    {
     "name": "stdout",
     "output_type": "stream",
     "text": [
      "42\n"
     ]
    }
   ],
   "source": [
    "#Finding maximum path array between any two nodes in a tree\n",
    "\n",
    "class TreeNode(object):\n",
    "    def __init__(self, x):\n",
    "        self.val = x\n",
    "        self.left = None\n",
    "        self.right = None\n",
    "        \n",
    "def find_max_path(node):\n",
    "    find_max_helper.max_so_far = float(\"-inf\")\n",
    "    find_max_helper(node)\n",
    "    return find_max_helper.max_so_far\n",
    "\n",
    "def find_max_helper(node):\n",
    "    if node is None:\n",
    "        return 0\n",
    "    \n",
    "    left = find_max_helper(node.left)\n",
    "    right = find_max_helper(node.right)\n",
    "    \n",
    "    max_1 = max(max(left, right) + node.val, node.val)\n",
    "    max_2 = max(max_1, left + node.val + right)\n",
    "    \n",
    "    if max_2 > find_max_helper.max_so_far:\n",
    "        find_max_helper.max_so_far = max_2\n",
    "    \n",
    "    return max_1\n",
    "\n",
    "\n",
    "\n",
    "node = TreeNode(10)\n",
    "node.left = TreeNode(2)\n",
    "node.left.left = TreeNode(20)\n",
    "node.left.right = TreeNode(1)\n",
    "node.right = TreeNode(10)\n",
    "node.right.right = TreeNode(-25)\n",
    "node.right.right.left = TreeNode(3)\n",
    "node.right.right.right = TreeNode(4)\n",
    "\n",
    "        \n",
    "    \n",
    "print find_max_path(node)\n",
    "        \n"
   ]
  },
  {
   "cell_type": "code",
   "execution_count": 40,
   "metadata": {
    "collapsed": false,
    "deletable": true,
    "editable": true
   },
   "outputs": [
    {
     "name": "stdout",
     "output_type": "stream",
     "text": [
      "27\n"
     ]
    }
   ],
   "source": [
    "#Finding the maximum path sum between two leaf nodes in a tree\n",
    "\n",
    "#Finding maximum path array between any two nodes in a tree\n",
    "\n",
    "class TreeNode(object):\n",
    "    def __init__(self, x):\n",
    "        self.val = x\n",
    "        self.left = None\n",
    "        self.right = None\n",
    "        \n",
    "def find_max_path_leaf_nodes(node):\n",
    "    find_max_path_leaf_nodes_helper.max_so_far = float(\"-inf\")\n",
    "    find_max_path_leaf_nodes_helper(node)\n",
    "    return find_max_path_leaf_nodes_helper.max_so_far\n",
    "\n",
    "def find_max_path_leaf_nodes_helper(node):\n",
    "    if node is None:\n",
    "        return float(\"-inf\")\n",
    "    \n",
    "    if node.right is None and node.left is None:\n",
    "        return node.val\n",
    "    \n",
    "    left = find_max_path_leaf_nodes_helper(node.left)\n",
    "    right = find_max_path_leaf_nodes_helper(node.right)\n",
    "    \n",
    "    \n",
    "    max_from_leaf = max(left, right) + node.val\n",
    "    \n",
    "    if node.right is not None and node.left is not None:\n",
    "        find_max_path_leaf_nodes_helper.max_so_far = max(find_max_path_leaf_nodes_helper.max_so_far, left + node.val + right)\n",
    "\n",
    "    return max_from_leaf\n",
    "\n",
    "\n",
    "\n",
    "root = TreeNode(-15)\n",
    "root.left = TreeNode(5)\n",
    "root.right = TreeNode(6)\n",
    "root.left.left = TreeNode(-8)\n",
    "root.left.right = TreeNode(1)\n",
    "root.left.left.left = TreeNode(2)\n",
    "root.left.left.right = TreeNode(6)\n",
    "root.right.left = TreeNode(3)\n",
    "root.right.right = TreeNode(9)\n",
    "root.right.right.right= TreeNode(0)\n",
    "root.right.right.right.left = TreeNode(4)\n",
    "root.right.right.right.right = TreeNode(-1)\n",
    "root.right.right.right.right.left = TreeNode(10)\n",
    "\n",
    "print find_max_path_leaf_nodes(root)"
   ]
  }
 ],
 "metadata": {
  "kernelspec": {
   "display_name": "Python 2",
   "language": "python",
   "name": "python2"
  },
  "language_info": {
   "codemirror_mode": {
    "name": "ipython",
    "version": 2
   },
   "file_extension": ".py",
   "mimetype": "text/x-python",
   "name": "python",
   "nbconvert_exporter": "python",
   "pygments_lexer": "ipython2",
   "version": "2.7.12"
  }
 },
 "nbformat": 4,
 "nbformat_minor": 2
}
