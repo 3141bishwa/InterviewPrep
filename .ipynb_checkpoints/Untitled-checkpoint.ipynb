{
 "cells": [
  {
   "cell_type": "code",
   "execution_count": null,
   "metadata": {
    "collapsed": false,
    "deletable": true,
    "editable": true
   },
   "outputs": [],
   "source": [
    "#Output result template\n",
    "\n",
    "num_results = int(input(\"\"))\n",
    "\n",
    "result = []\n",
    "\n",
    "for x in range(num_results):\n",
    "    n = int(input(\"\"))\n",
    "    arr = [int(x) for x in input(\"\").split(\" \") if x != \"\"]\n",
    "    \n",
    "    result.append(func_name(arr, n))\n",
    "    \n",
    "\n",
    "for x in result:\n",
    "    print(x)"
   ]
  },
  {
   "cell_type": "markdown",
   "metadata": {
    "deletable": true,
    "editable": true
   },
   "source": [
    "Largest Sum Contiguous Subarray <br>\n",
    "http://www.geeksforgeeks.org/largest-sum-contiguous-subarray/\n",
    "\n",
    "Kadane's Algorithm http://practice.geeksforgeeks.org/problems/kadanes-algorithm/0"
   ]
  },
  {
   "cell_type": "code",
   "execution_count": 16,
   "metadata": {
    "collapsed": false,
    "deletable": true,
    "editable": true
   },
   "outputs": [
    {
     "name": "stdout",
     "output_type": "stream",
     "text": [
      "1\n",
      "3\n",
      "1 2 3\n",
      "3\n",
      "3\n",
      "6\n",
      "6\n",
      "6\n"
     ]
    }
   ],
   "source": [
    "def largest_subarrray_sum(lst):\n",
    "    curMax = lst[0]\n",
    "    gMax = lst[0]\n",
    "    \n",
    "    for x in xrange(1, len(lst)):\n",
    "        curMax = max(curMax + lst[x], lst[x])\n",
    "        gMax = max(curMax, gMax)\n",
    "    \n",
    "    return gMax\n",
    "\n",
    "num_results = int(raw_input(\"\"))"
   ]
  },
  {
   "cell_type": "markdown",
   "metadata": {
    "deletable": true,
    "editable": true
   },
   "source": [
    "Longest Increasing Subsequence <br>\n",
    "http://practice.geeksforgeeks.org/problems/longest-increasing-subsequence/0"
   ]
  },
  {
   "cell_type": "code",
   "execution_count": 13,
   "metadata": {
    "collapsed": false,
    "deletable": true,
    "editable": true
   },
   "outputs": [
    {
     "name": "stdout",
     "output_type": "stream",
     "text": [
      "4\n"
     ]
    }
   ],
   "source": [
    "def longest_increasing_subsequence(arr):\n",
    "    dp = [1] * len(arr)\n",
    "    \n",
    "    for x in xrange(1,len(arr)):\n",
    "        for y in xrange(x):\n",
    "            if arr[y] < arr[x]:\n",
    "                dp[x] = max(dp[x], dp[y] + 1)\n",
    "    \n",
    "    return max(dp)\n",
    "\n",
    "\n",
    "print longest_increasing_subsequence([3, 4, -1 , 0 , 6 , 2, 3])\n"
   ]
  },
  {
   "cell_type": "markdown",
   "metadata": {
    "deletable": true,
    "editable": true
   },
   "source": [
    "Longest Increasing Subsequence with returning the sequence <br>\n",
    "\n",
    "http://practice.geeksforgeeks.org/problems/longest-increasing-subsequence/0"
   ]
  },
  {
   "cell_type": "code",
   "execution_count": 14,
   "metadata": {
    "collapsed": false,
    "deletable": true,
    "editable": true
   },
   "outputs": [
    {
     "ename": "SyntaxError",
     "evalue": "invalid syntax (<ipython-input-14-8fcd82412861>, line 9)",
     "output_type": "error",
     "traceback": [
      "\u001b[1;36m  File \u001b[1;32m\"<ipython-input-14-8fcd82412861>\"\u001b[1;36m, line \u001b[1;32m9\u001b[0m\n\u001b[1;33m    if running_length > max\u001b[0m\n\u001b[1;37m                           ^\u001b[0m\n\u001b[1;31mSyntaxError\u001b[0m\u001b[1;31m:\u001b[0m invalid syntax\n"
     ]
    }
   ],
   "source": [
    "def longest_increasing_subsequence_with_sequence(arr):\n",
    "    max_length = 0\n",
    "    \n",
    "    running_length = 0\n",
    "    for x in xrange(len(arr)-1):\n",
    "        if arr[x] > arr[x+1]:\n",
    "            running_length += 1\n",
    "        else:\n",
    "            if running_length > max_length:\n",
    "                max_length = running_length\n",
    "                running_length = 0\n",
    "    \n",
    "    return max_length\n",
    "\n",
    "\n",
    "print longest_increasing_subsequence_with_sequence()"
   ]
  },
  {
   "cell_type": "markdown",
   "metadata": {
    "deletable": true,
    "editable": true
   },
   "source": [
    "Longest Common Subsequence <br>\n",
    "\n",
    "http://practice.geeksforgeeks.org/problems/longest-common-subsequence/0\n",
    "\n"
   ]
  },
  {
   "cell_type": "code",
   "execution_count": 7,
   "metadata": {
    "collapsed": false,
    "deletable": true,
    "editable": true
   },
   "outputs": [
    {
     "name": "stdout",
     "output_type": "stream",
     "text": [
      "2\n"
     ]
    }
   ],
   "source": [
    "def longest_common_subsequence(a, b):\n",
    "    \n",
    "    dp = [[0 for x in xrange(len(b)+1)] for y in xrange(len(a)+1)]\n",
    "    \n",
    "    \n",
    "    \n",
    "    for x in xrange(len(a)+1):\n",
    "        for y in xrange(len(b)+1):\n",
    "            if x ==0 or y == 0:\n",
    "                dp[x][y] = 0\n",
    "            elif a[x-1] == b[y-1]:\n",
    "                dp[x][y] = dp[x-1][y-1] + 1\n",
    "            else:\n",
    "                dp[x][y] = max(dp[x-1][y] , dp[x][y-1])\n",
    "        \n",
    "    return dp[len(a)][len(b)]\n",
    "\n",
    "\n",
    "print longest_common_subsequence(\"ABC\", \"AC\")"
   ]
  },
  {
   "cell_type": "code",
   "execution_count": 102,
   "metadata": {
    "collapsed": false,
    "deletable": true,
    "editable": true
   },
   "outputs": [
    {
     "name": "stdout",
     "output_type": "stream",
     "text": [
      "3\n"
     ]
    }
   ],
   "source": [
    "# Longest Distinct Characters in A String\n",
    "# http://practice.geeksforgeeks.org/problems/longest-distinct-characters-in-string/0\n",
    "def longest_distinct(string):\n",
    "    chr_set = set()\n",
    "    \n",
    "    max_len = 0\n",
    "    result = \"\"\n",
    "    for x in string:\n",
    "        if x not in chr_set:\n",
    "            result += x\n",
    "            chr_set.add(x)\n",
    "        else:\n",
    "            if len(result) > max_len:\n",
    "                max_len = len(result)\n",
    "            \n",
    "            chr_set = set()\n",
    "            result = \"\"\n",
    "    \n",
    "    return max_len\n",
    "\n",
    "\n",
    "print longest_distinct(\"abcad\")"
   ]
  },
  {
   "cell_type": "code",
   "execution_count": 28,
   "metadata": {
    "collapsed": false,
    "deletable": true,
    "editable": true
   },
   "outputs": [
    {
     "name": "stdout",
     "output_type": "stream",
     "text": [
      "2\n",
      "5\n",
      "1 2 3 5\n",
      "10\n",
      "1 2 3 4 5 6 7 8 10\n",
      "4\n",
      "9\n"
     ]
    }
   ],
   "source": [
    "#Missing number in an array\n",
    "#http://practice.geeksforgeeks.org/problems/missing-number-in-array/0\n",
    "\n",
    "def missing(arr, n):\n",
    "    val = 1.0 * n * (n + 1) / 2\n",
    "    \n",
    "    return int(val - sum(arr))\n",
    "\n",
    "\n",
    "num_results = int(raw_input(\"\"))\n",
    "\n",
    "\n",
    "    \n",
    "result = []\n",
    "\n",
    "for x in xrange(num_results):\n",
    "    n = int(raw_input(\"\"))\n",
    "    arr = [int(x) for x in raw_input(\"\").split(\" \")]\n",
    "    \n",
    "    result.append(missing(arr, n))\n",
    "    \n",
    "\n",
    "for x in result:\n",
    "    print(x)"
   ]
  },
  {
   "cell_type": "code",
   "execution_count": null,
   "metadata": {
    "collapsed": true,
    "deletable": true,
    "editable": true
   },
   "outputs": [],
   "source": [
    "def not_repeated(arr):\n",
    "    return reduce(lambda x,y : x^y , arr)\n",
    "\n",
    "\n",
    "print missing([1,1,2,3,3])"
   ]
  },
  {
   "cell_type": "markdown",
   "metadata": {
    "deletable": true,
    "editable": true
   },
   "source": [
    "Subarray with given sum\n",
    "http://practice.geeksforgeeks.org/problems/subarray-with-given-sum/0"
   ]
  },
  {
   "cell_type": "code",
   "execution_count": 67,
   "metadata": {
    "collapsed": false,
    "deletable": true,
    "editable": true
   },
   "outputs": [
    {
     "name": "stdout",
     "output_type": "stream",
     "text": [
      "-1\n",
      "(2, 5)\n"
     ]
    }
   ],
   "source": [
    "def subarray_given_sum(arr, num):\n",
    "    start = 0\n",
    "    \n",
    "    total = arr[0]\n",
    "    \n",
    "    for x in xrange(1,len(arr)+1):\n",
    "        while(total > num):\n",
    "            total -= arr[start]\n",
    "            start += 1\n",
    "        if total == num:\n",
    "            return start + 1, x\n",
    "        elif total < num and x < len(arr):\n",
    "            total += arr[x]\n",
    "           \n",
    "    return -1\n",
    "\n",
    "\n",
    "print subarray_given_sum([135,101,170,125,79,159,163,65,106,146,82,28,162,92,196,143,28,37,192,5,103,154,93,183,22,117,119,96,48,127,172,139,70,113,68,100,36,95,104,12,123,134], 467)\n",
    "\n",
    "print subarray_given_sum([15, 2, 4, 8, 9, 5, 10, 23], 23)"
   ]
  },
  {
   "cell_type": "markdown",
   "metadata": {
    "deletable": true,
    "editable": true
   },
   "source": [
    "Sort an array of 0s, 1s and 2s\n",
    "http://practice.geeksforgeeks.org/problems/sort-an-array-of-0s-1s-and-2s/0"
   ]
  },
  {
   "cell_type": "code",
   "execution_count": 79,
   "metadata": {
    "collapsed": false,
    "deletable": true,
    "editable": true
   },
   "outputs": [
    {
     "name": "stdout",
     "output_type": "stream",
     "text": [
      "0 0 1 1 2 2\n"
     ]
    }
   ],
   "source": [
    "def sort_zero_one_two(array):\n",
    "    num_dict = dict()\n",
    "    \n",
    "    for x in array:\n",
    "        try:\n",
    "            num_dict[x] += 1\n",
    "        except:\n",
    "            num_dict[x] = 1\n",
    "            \n",
    "    ans = \"\"\n",
    "    \n",
    "    if 0 in num_dict:\n",
    "        ans += \"0 \"*num_dict[0]\n",
    "    if 1 in num_dict:\n",
    "        ans += \"1 \"*num_dict[0]\n",
    "    if 2 in num_dict:\n",
    "        ans += \"2 \"*num_dict[0]\n",
    "    \n",
    "    \n",
    "    return ans[:-1]\n",
    "    \n",
    "print sort_zero_one_two([0 ,2 ,1 ,2 ,0])"
   ]
  },
  {
   "cell_type": "markdown",
   "metadata": {
    "deletable": true,
    "editable": true
   },
   "source": [
    "Equilibrium Point\n",
    "http://practice.geeksforgeeks.org/problems/equilibrium-point/0"
   ]
  },
  {
   "cell_type": "code",
   "execution_count": 87,
   "metadata": {
    "collapsed": false,
    "deletable": true,
    "editable": true
   },
   "outputs": [
    {
     "name": "stdout",
     "output_type": "stream",
     "text": [
      "-1\n"
     ]
    }
   ],
   "source": [
    "def equilibrium(arr):\n",
    "    \n",
    "    if len(arr) == 1:\n",
    "        return arr[0]\n",
    "    \n",
    "    if len(arr) == 2:\n",
    "        return -1\n",
    "    \n",
    "    \n",
    "    total = sum(arr)\n",
    "    \n",
    "    sum_so_far = arr[0]\n",
    "    right_sum = 0\n",
    "    for x in xrange(1,len(arr) - 1):\n",
    "        right_sum = total - sum_so_far - arr[x]\n",
    "    \n",
    "        if sum_so_far == right_sum:\n",
    "            return x + 1\n",
    "        else:\n",
    "            sum_so_far += arr[x]\n",
    "            \n",
    "    \n",
    "    return -1\n",
    "\n",
    "\n",
    "\n",
    "print(equilibrium([1]))\n",
    "        "
   ]
  },
  {
   "cell_type": "markdown",
   "metadata": {
    "deletable": true,
    "editable": true
   },
   "source": [
    "Maximum Sum Increasing Subsequence\n",
    "http://practice.geeksforgeeks.org/problems/maximum-sum-increasing-subsequence/0"
   ]
  },
  {
   "cell_type": "code",
   "execution_count": 89,
   "metadata": {
    "collapsed": false,
    "deletable": true,
    "editable": true
   },
   "outputs": [
    {
     "name": "stdout",
     "output_type": "stream",
     "text": [
      "5\n"
     ]
    }
   ],
   "source": [
    "def max_sum_increasing_subsequence(arr):\n",
    "    max_sum = 0\n",
    "    \n",
    "    sum_so_far = 0\n",
    "    \n",
    "    for x in xrange(0, len(arr) - 1):     \n",
    "        if arr[x] <= arr[x+1]:\n",
    "            sum_so_far += arr[x+1]\n",
    "        else:\n",
    "            if sum_so_far > max_sum:\n",
    "                max_sum = sum_so_far\n",
    "            sum_so_far = 0\n",
    "    \n",
    "    return max_sum\n",
    "\n",
    "print max_sum_increasing_subsequence([1 ,101 ,2 ,3 ,100, 4, 5])\n",
    "            "
   ]
  },
  {
   "cell_type": "markdown",
   "metadata": {
    "deletable": true,
    "editable": true
   },
   "source": [
    "Meta Strings\n",
    "http://practice.geeksforgeeks.org/problems/meta-strings/0"
   ]
  },
  {
   "cell_type": "code",
   "execution_count": 1,
   "metadata": {
    "collapsed": false,
    "deletable": true,
    "editable": true
   },
   "outputs": [
    {
     "name": "stdout",
     "output_type": "stream",
     "text": [
      "True\n"
     ]
    }
   ],
   "source": [
    "def meta_strings(a,b):\n",
    "    temp = []\n",
    "    for x in xrange(len(a)):\n",
    "        if a[x] != b[x]:\n",
    "            temp.append((a[x] + b[x]))\n",
    "    \n",
    "    \n",
    "    if len(temp) > 2:\n",
    "        return True\n",
    "    \n",
    "    if temp[0][0] == temp[1][1] and temp[0][1] == temp[1][0]:\n",
    "        return True\n",
    "    \n",
    "    return False\n",
    "\n",
    "print meta_strings(\"geeks\", \"keegs\")"
   ]
  },
  {
   "cell_type": "markdown",
   "metadata": {
    "deletable": true,
    "editable": true
   },
   "source": [
    "0-1 Knapsack Problem <br>\n",
    "http://practice.geeksforgeeks.org/problems/0-1-knapsack-problem/0"
   ]
  },
  {
   "cell_type": "markdown",
   "metadata": {
    "deletable": true,
    "editable": true
   },
   "source": [
    "Ugly Numbers\n",
    "http://www.geeksforgeeks.org/ugly-numbers/"
   ]
  },
  {
   "cell_type": "markdown",
   "metadata": {
    "deletable": true,
    "editable": true
   },
   "source": [
    "Min Cost Path <br>\n",
    "\n",
    "http://www.geeksforgeeks.org/dynamic-programming-set-6-min-cost-path/"
   ]
  },
  {
   "cell_type": "code",
   "execution_count": null,
   "metadata": {
    "collapsed": true,
    "deletable": true,
    "editable": true
   },
   "outputs": [],
   "source": [
    "def min_cost_path(arr,m,n):\n",
    "    \n",
    "    r = len(arr)\n",
    "    c = len(arr[0])\n",
    "    min_cost_arr = [[0 for x in xrange(c)] for y in xrange(r)]\n",
    "    \n",
    "    min_cost_arr[0][0] = arr[0][0]\n",
    "    for x in xrange(m):\n",
    "        for y in yrange(n):\n",
    "            if x == 0:\n",
    "                if y!= 0:\n",
    "                    min_cost_arr[x][y] = min_cost_arr[x][y - 1] + arr[x][y]\n",
    "            elif y == 0:\n",
    "                min_cost_arr[x][y] = min_cost_arr[x - 1][y] + arr[x][y]\n",
    "            else:\n",
    "                min_cost_arr[x][y] = min(min_cost_arr[x-1][y], min_cost_arr[x][y-1], min_cost_arr[x-1][y-1]) + arr[x][y]\n",
    "                \n",
    "    \n",
    "    \n",
    "    return min_cost_arr[m][n]\n",
    "\n",
    "\n",
    "            "
   ]
  },
  {
   "cell_type": "markdown",
   "metadata": {
    "deletable": true,
    "editable": true
   },
   "source": [
    "Coin Change <br>\n",
    "Given a value N, if we want to make change for N cents, and we have infinite supply of each of S = { S1, S2, .. , Sm} valued coins, how many ways can we make the change? The order of coins doesn’t matter. <br>\n",
    "\n",
    "http://practice.geeksforgeeks.org/problems/coin-change/0"
   ]
  },
  {
   "cell_type": "code",
   "execution_count": 3,
   "metadata": {
    "collapsed": false,
    "deletable": true,
    "editable": true
   },
   "outputs": [
    {
     "name": "stdout",
     "output_type": "stream",
     "text": [
      "4\n",
      "5\n"
     ]
    }
   ],
   "source": [
    "#Recursive Solution\n",
    "from rcviz import callgraph, viz\n",
    "\n",
    "def coin_ways_count(arr, val):\n",
    "    if val == 0:\n",
    "        return 1\n",
    "\n",
    "    if val < 0:\n",
    "        return 0\n",
    "    \n",
    "    if len(arr) <= 0 and val > 0:\n",
    "        return 0\n",
    "        \n",
    "    return coin_ways_count(arr[:len(arr)-1], val) + coin_ways_count(arr, val - arr[-1])\n",
    "\n",
    "\n",
    "print coin_ways_count([1 ,2, 3], 4)\n",
    "\n",
    "\n",
    "print coin_ways_count([2 ,5 ,3, 6], 10)\n",
    "\n"
   ]
  },
  {
   "cell_type": "code",
   "execution_count": 1,
   "metadata": {
    "collapsed": false,
    "deletable": true,
    "editable": true
   },
   "outputs": [],
   "source": [
    "#Recursive with memoization\n",
    "num_results = int(input(\"\"))\n",
    "\n",
    "result = []\n",
    "\n",
    "def coin_ways_count_mem(arr, val, visited):\n",
    "    \n",
    "    if (tuple(arr), val) in visited:\n",
    "        return visited[(tuple(arr), val)]\n",
    "        \n",
    "    if val == 0:\n",
    "        return 1\n",
    "\n",
    "    if val < 0:\n",
    "        return 0\n",
    "    \n",
    "    if len(arr) <= 0 and val > 0:\n",
    "        return 0\n",
    "        \n",
    "    ans = coin_ways_count(arr[:len(arr)-1], val, visited) + coin_ways_count(arr, val - arr[-1], visited)\n",
    "    \n",
    "    visited[(tuple(arr), val)] = ans\n",
    "    \n",
    "    \n",
    "    return ans\n"
   ]
  },
  {
   "cell_type": "markdown",
   "metadata": {
    "deletable": true,
    "editable": true
   },
   "source": [
    "Edit Distance <br>\n",
    "\n",
    "http://practice.geeksforgeeks.org/problems/edit-distance/0"
   ]
  },
  {
   "cell_type": "code",
   "execution_count": 10,
   "metadata": {
    "collapsed": false,
    "deletable": true,
    "editable": true
   },
   "outputs": [
    {
     "name": "stdout",
     "output_type": "stream",
     "text": [
      "3\n"
     ]
    }
   ],
   "source": [
    "\n",
    "def pretty_table(table):\n",
    "    for row in table:\n",
    "        for e in row:\n",
    "            print e,\n",
    "        print\n",
    "    print \"\"\n",
    "        \n",
    "def edit_distance(str1, str2):\n",
    "    table = [[0 for x in xrange(len(str2) + 1)] for y in xrange(len(str1) + 1)]\n",
    "    \n",
    "    for x in xrange(len(str1) + 1):\n",
    "        for y in xrange(len(str2) + 1):\n",
    "\n",
    "            if x == 0:\n",
    "                table[x][y] = y\n",
    "            elif y == 0:\n",
    "                table[x][y] = x\n",
    "            \n",
    "            elif str2[y - 1] == str1[x - 1]:\n",
    "                table[x][y] = table[x-1][y-1]\n",
    "                \n",
    "            else:\n",
    "                table[x][y] = 1 + min(table[x-1][y-1], table[x-1][y], table[x][y-1])\n",
    "        \n",
    "                  \n",
    "    \n",
    "    return table[-1][-1]\n",
    "\n",
    "\n",
    "\n",
    "print(edit_distance(\"asd\", \"e\"))\n"
   ]
  },
  {
   "cell_type": "markdown",
   "metadata": {
    "deletable": true,
    "editable": true
   },
   "source": [
    "Cutting Rod <br>\n",
    "\n",
    "http://www.geeksforgeeks.org/dynamic-programming-set-13-cutting-a-rod/\n"
   ]
  },
  {
   "cell_type": "code",
   "execution_count": 74,
   "metadata": {
    "collapsed": false,
    "deletable": true,
    "editable": true
   },
   "outputs": [
    {
     "name": "stdout",
     "output_type": "stream",
     "text": [
      "8\n"
     ]
    }
   ],
   "source": [
    "def max_profit_rod(arr, val):\n",
    "    table = [[0 for x in xrange(val + 1)] for y in xrange(len(arr))]\n",
    "    \n",
    "    \n",
    "    for i in xrange(len(arr)):\n",
    "        for j in xrange(1,val + 1):\n",
    "            if i == 0:\n",
    "                table[i][j] = arr[i]*j\n",
    "            else:\n",
    "                if j < i + 1:\n",
    "                    table[i][j] = table[i-1][j]\n",
    "                else:\n",
    "                    table[i][j] = max(table[i-1][j], arr[i] + table[i][j - (i+1)])\n",
    "    \n",
    "    return table[-1][-1]\n",
    "\n",
    "\n",
    "print max_profit_rod([2, 1 ,1], 4)\n",
    "    \n",
    "    \n",
    "    "
   ]
  },
  {
   "cell_type": "markdown",
   "metadata": {
    "deletable": true,
    "editable": true
   },
   "source": [
    "Subset Sum Problem\n",
    "http://www.geeksforgeeks.org/dynamic-programming-subset-sum-problem/"
   ]
  },
  {
   "cell_type": "code",
   "execution_count": 81,
   "metadata": {
    "collapsed": false,
    "deletable": true,
    "editable": true
   },
   "outputs": [
    {
     "name": "stdout",
     "output_type": "stream",
     "text": [
      "True\n"
     ]
    }
   ],
   "source": [
    "def is_subset_sum_rec(arr, val):\n",
    "    \n",
    "    if val == 0:\n",
    "        return True\n",
    "    \n",
    "    if len(arr) == 0 and val != 0:\n",
    "        return False\n",
    "    \n",
    "    if len(arr) == 1 and arr[0] > val:\n",
    "        return False\n",
    "    return is_subset_sum(arr[:len(arr) - 1 ], val) or is_subset_sum(arr, val - arr[-1])\n",
    "\n",
    "\n",
    "print is_subset_sum([3, 34, 4, 12, 5, 2], 9)\n",
    "\n",
    "\n"
   ]
  },
  {
   "cell_type": "code",
   "execution_count": 94,
   "metadata": {
    "collapsed": false,
    "deletable": true,
    "editable": true
   },
   "outputs": [
    {
     "name": "stdout",
     "output_type": "stream",
     "text": [
      "True\n"
     ]
    }
   ],
   "source": [
    "def is_subset_sum_dp(arr, val):\n",
    "    table = [[None for x in xrange(val+1)] for y in xrange(len(arr))]\n",
    "    \n",
    "    \n",
    "    for i in xrange(len(arr)):\n",
    "        for j in xrange(val+1):\n",
    "            if j == 0:\n",
    "                table[i][j] = True\n",
    "            elif i == 0:\n",
    "                table[i][j] = arr[i] == j\n",
    "            elif arr[i] == j:\n",
    "                table[i][j] = True\n",
    "            elif j < arr[i]:\n",
    "                table[i][j] = table[i - 1][j]\n",
    "            else:\n",
    "                table[i][j]  = table[i - 1][j] or table[i - 1][j - arr[i]]\n",
    "        \n",
    "        \n",
    "    return table[-1][-1]\n",
    "\n",
    "print is_subset_sum_dp([3, 34, 4, 12, 5, 2], 9)"
   ]
  },
  {
   "cell_type": "markdown",
   "metadata": {
    "deletable": true,
    "editable": true
   },
   "source": [
    "Length of longest substring without repeating characters <br>\n",
    "\n",
    "http://www.geeksforgeeks.org/length-of-the-longest-substring-without-repeating-characters/\n",
    "    \n"
   ]
  },
  {
   "cell_type": "code",
   "execution_count": 101,
   "metadata": {
    "collapsed": false,
    "deletable": true,
    "editable": true
   },
   "outputs": [
    {
     "name": "stdout",
     "output_type": "stream",
     "text": [
      "0 1\n",
      "1 2\n",
      "2 1\n",
      "3 2\n",
      "4 3\n",
      "5 4\n",
      "6 5\n",
      "7 6\n",
      "8 8\n",
      "9 7\n",
      "10 1\n",
      "11 8\n",
      "12 8\n",
      "8\n"
     ]
    }
   ],
   "source": [
    "def longest_distinct_substring(string):\n",
    "    longest = 0\n",
    "    longest_so_far = 0\n",
    "    visited = dict()\n",
    "    \n",
    "    for x in xrange(len(string)):\n",
    "        if string[x] not in visited:\n",
    "            visited[string[x]] = x\n",
    "            longest_so_far += 1\n",
    "        else:\n",
    "            longest = max(longest, longest_so_far)\n",
    "            longest_so_far = x - visited[string[x]]\n",
    "            visited[string[x]] = x\n",
    "        \n",
    "        print x, longest_so_far\n",
    "    if longest_so_far > longest:\n",
    "        return longest_so_far\n",
    "    \n",
    "    return longest\n",
    "                \n",
    "print longest_distinct_substring(\"GEEKSFORGEEKS\")"
   ]
  },
  {
   "cell_type": "markdown",
   "metadata": {
    "deletable": true,
    "editable": true
   },
   "source": [
    "Reach Destination of a Maze <br>\n",
    "http://www.geeksforgeeks.org/count-number-ways-reach-destination-maze/"
   ]
  },
  {
   "cell_type": "code",
   "execution_count": 17,
   "metadata": {
    "collapsed": false,
    "deletable": true,
    "editable": true
   },
   "outputs": [
    {
     "name": "stdout",
     "output_type": "stream",
     "text": [
      "1 1 1 1\n",
      "1 0 1 2\n",
      "0 0 1 3\n",
      "0 0 1 4\n",
      "\n",
      "4\n"
     ]
    }
   ],
   "source": [
    "def ways_to_destination(arr):\n",
    "    \n",
    "    c = len(arr[0])\n",
    "    r = len(arr)\n",
    "    \n",
    "    table = [[0 for x in xrange(c)] for y in xrange(r)]\n",
    "    table[0][0] = 1\n",
    "    \n",
    "    for x in xrange(1,r):\n",
    "        if arr[x][0] == -1:\n",
    "            table[x][0] = 0\n",
    "        else:\n",
    "            table[x][0] = table[x - 1][0]\n",
    "    \n",
    "    for y in xrange(1,c):\n",
    "        if arr[0][y] == -1:\n",
    "            table[0][y] = 0\n",
    "        else:\n",
    "            table[0][y] = table[0][y-1]\n",
    "    \n",
    "    \n",
    "    for x in xrange(1,r):\n",
    "        for y in xrange(1,c):\n",
    "            if arr[x][y] == -1:\n",
    "                table[x][y] = 0\n",
    "            else:\n",
    "                table[x][y] = table[x-1][y] + table[x][y - 1]\n",
    "    \n",
    "    return table[-1][-1]\n",
    "\n",
    "\n",
    "arr = [[0,  0, 0, 0],[0, -1, 0, 0], [-1, 0, 0, 0], [0,  0, 0, 0]];\n",
    "print ways_to_destination(arr)\n",
    "                \n",
    "\n",
    "num_results = int(input(\"\"))\n",
    "\n",
    "result = []\n",
    "\n",
    "for x in range(num_results):\n",
    "    temp = [int(x) for x in input(\"\").split(\" \") if x != \"\"]\n",
    "    r,c = arr[:2]\n",
    "    \n",
    "    arr = [[0 for x in xrange(c)] for y in xrange(r)]\n",
    "    temp = [int(x) for x in input(\"\").split(\" \") if x != \"\"]\n",
    "    result.append(func_name(arr, n))\n",
    "    \n",
    "\n",
    "for x in result:\n",
    "    print(x)\n",
    "            \n",
    "    \n",
    "    \n",
    "    \n",
    "    \n",
    "    "
   ]
  },
  {
   "cell_type": "code",
   "execution_count": 26,
   "metadata": {
    "collapsed": false,
    "deletable": true,
    "editable": true
   },
   "outputs": [
    {
     "name": "stdout",
     "output_type": "stream",
     "text": [
      "['5', 1]\n",
      "['6', '3']\n",
      "[5, 1]\n",
      "[6, 3]\n",
      "27+21i\n",
      "['5', '-1']\n",
      "['6', '-3']\n",
      "[5, -1]\n",
      "[6, -3]\n",
      "27+-21i\n"
     ]
    }
   ],
   "source": [
    "def get_tuple(a):\n",
    "    a_list = []\n",
    "    num = \"\"\n",
    "    for x in a:\n",
    "        if x == \"+\":\n",
    "            if not num:\n",
    "                a_list.append(0)\n",
    "            else:\n",
    "                a_list.append(num)\n",
    "            num = \"\"\n",
    "        elif x == \"i\":\n",
    "            if not num:\n",
    "                a_list.append(1)\n",
    "            else:\n",
    "                a_list.append(num)\n",
    "        else:\n",
    "            num += x\n",
    "    \n",
    "    print a_list\n",
    "    return [int(x) for x in a_list]\n",
    "\n",
    "def complex_add(a,b):\n",
    "    a_list, b_list = (get_tuple(a), get_tuple(b))\n",
    "    \n",
    "    return \"%s+%si\"%(a_list[0]*b_list[0] - a_list[1]*b_list[1],a_list[0]*b_list[1] + a_list[1]*b_list[0])\n",
    "    \n",
    "    \n",
    "print complex_add(\"5+i\", \"6+3i\")\n",
    "print complex_add(\"5+-1i\", \"6+-3i\")\n",
    "    "
   ]
  },
  {
   "cell_type": "code",
   "execution_count": 10,
   "metadata": {
    "collapsed": false,
    "deletable": true,
    "editable": true
   },
   "outputs": [
    {
     "ename": "SyntaxError",
     "evalue": "invalid syntax (<ipython-input-10-878e08b0c9cf>, line 1)",
     "output_type": "error",
     "traceback": [
      "\u001b[1;36m  File \u001b[1;32m\"<ipython-input-10-878e08b0c9cf>\"\u001b[1;36m, line \u001b[1;32m1\u001b[0m\n\u001b[1;33m    )\u001b[0m\n\u001b[1;37m    ^\u001b[0m\n\u001b[1;31mSyntaxError\u001b[0m\u001b[1;31m:\u001b[0m invalid syntax\n"
     ]
    }
   ],
   "source": []
  },
  {
   "cell_type": "code",
   "execution_count": 47,
   "metadata": {
    "collapsed": false,
    "deletable": true,
    "editable": true,
    "scrolled": true
   },
   "outputs": [
    {
     "name": "stdout",
     "output_type": "stream",
     "text": [
      "Final is:\n",
      "[]\n",
      "Final is:\n",
      "[[5, 4, 11, 2]]\n",
      "Final is:\n",
      "[[5, 4, 11, 2]]\n",
      "Final is:\n",
      "[[5, 4, 11, 2]]\n",
      "Final is:\n",
      "[[5, 4, 11, 2], [5, 8, 4, 5]]\n",
      "Final is:\n",
      "[[5, 4, 11, 2], [5, 8, 4, 5]]\n",
      "Final is:\n",
      "[[5, 4, 11, 2], [5, 8, 4, 5]]\n",
      "Final is:\n",
      "[[5, 4, 11, 2], [5, 8, 4, 5]]\n",
      "[[5, 4, 11, 2], [5, 8, 4, 5]]\n"
     ]
    }
   ],
   "source": [
    "\n",
    "#Path Sum II\n",
    "#Leetcode\n",
    "\n",
    "import copy\n",
    "\n",
    "# Definition for a binary tree node.\n",
    "class TreeNode(object):\n",
    "    def __init__(self, x):\n",
    "        self.val = x\n",
    "        self.left = None\n",
    "        self.right = None\n",
    "\n",
    "class Solution(object):\n",
    "    def dfs(self, node, current, final, total):\n",
    "        if node is None:\n",
    "            return\n",
    "\n",
    "        current.append(node.val)\n",
    "          \n",
    "        if node.right is None and node.left is None and node.val == total:        \n",
    "            z = copy.deepcopy(current)\n",
    "            final.append(z)\n",
    "            current.pop()\n",
    "            return\n",
    "        else:\n",
    "            self.dfs(node.left, current, final, total - node.val)\n",
    "            self.dfs(node.right, current, final, total - node.val)\n",
    "        \n",
    "        print \"Final is:\" \n",
    "        print final\n",
    "        current.pop()\n",
    "        \n",
    "        \n",
    "    def pathSum(self, root, total):\n",
    "        \"\"\"\n",
    "        :type root: TreeNode\n",
    "        :type sum: int\n",
    "        :rtype: List[List[int]]\n",
    "        \"\"\"\n",
    "        current = []\n",
    "        final = []\n",
    "        self.dfs(root, current, final, total)\n",
    "        \n",
    "        return final\n",
    "\n",
    "    \n",
    "root = TreeNode(5)\n",
    "root.left = TreeNode(4)\n",
    "root.right = TreeNode(8)\n",
    "root.left.left = TreeNode(11)\n",
    "root.left.left.left = TreeNode(7)\n",
    "root.left.left.right = TreeNode(2)\n",
    "root.right.left = TreeNode(13)\n",
    "root.right.right = TreeNode(4)\n",
    "root.right.right.left = TreeNode(5)\n",
    "root.right.right.right = TreeNode(1)\n",
    "\n",
    "solution = Solution()\n",
    "\n",
    "\n",
    "print solution.pathSum(root, 22)\n"
   ]
  },
  {
   "cell_type": "code",
   "execution_count": 5,
   "metadata": {
    "collapsed": false,
    "deletable": true,
    "editable": true
   },
   "outputs": [
    {
     "name": "stdout",
     "output_type": "stream",
     "text": [
      "[10, 8, 6, 4, 2, 0, -2]\n"
     ]
    }
   ],
   "source": []
  },
  {
   "cell_type": "code",
   "execution_count": 38,
   "metadata": {
    "collapsed": false,
    "deletable": true,
    "editable": true
   },
   "outputs": [
    {
     "name": "stdout",
     "output_type": "stream",
     "text": [
      "[[5], [8, 4], [11, 13, 4], [1, 5, 2, 7]]\n"
     ]
    }
   ],
   "source": [
    "#ZigZag Level Order Binary Tree Traversal\n",
    "#Leetcode\n",
    "\n",
    "from collections import deque\n",
    "\n",
    "\n",
    "def zigZagBinaryTreeTraversal(node):\n",
    "    \n",
    "    stack = deque([node])\n",
    "    \n",
    "    result = []\n",
    "    while stack:\n",
    "        level = []\n",
    "        for x in xrange(len(stack)):\n",
    "            temp = stack.popleft()\n",
    "            \n",
    "            \n",
    "            if temp.left:\n",
    "                stack.append(temp.left)\n",
    "            \n",
    "            if temp.right:\n",
    "                stack.append(temp.right)\n",
    "            \n",
    "            level.append(temp.val)\n",
    "        \n",
    "        \n",
    "        level = level if len(result) % 2 == 0 else level[::-1]\n",
    "        \n",
    "        result.append(level)\n",
    "            \n",
    "\n",
    "    return result\n",
    "\n",
    "\n",
    "\n",
    "print zigZagBinaryTreeTraversal(root)\n",
    "\n",
    "            \n",
    "            "
   ]
  },
  {
   "cell_type": "code",
   "execution_count": 48,
   "metadata": {
    "collapsed": false,
    "deletable": true,
    "editable": true
   },
   "outputs": [
    {
     "name": "stdout",
     "output_type": "stream",
     "text": [
      "8\n"
     ]
    }
   ],
   "source": [
    "#Max Width of Binary Tree\n",
    "#https://leetcode.com/problems/maximum-width-of-binary-tree/description/\n",
    "\n",
    "from collections import deque\n",
    "\n",
    "\n",
    "def max_width(node):\n",
    "    \n",
    "    stack = [(node,0,0)]\n",
    "    \n",
    "    \n",
    "    for node, depth, pos in stack:\n",
    "        if node:\n",
    "            stack.append((node.right, depth + 1, pos*2))\n",
    "            stack.append((node.right, depth + 1, pos*2 + 1))\n",
    "        \n",
    "    "
   ]
  },
  {
   "cell_type": "code",
   "execution_count": 54,
   "metadata": {
    "collapsed": false,
    "deletable": true,
    "editable": true
   },
   "outputs": [
    {
     "name": "stdout",
     "output_type": "stream",
     "text": [
      "1\n"
     ]
    }
   ],
   "source": [
    "#Number of connected components of an undirected graph\n",
    "\n",
    "from collections import deque\n",
    "from collections import defaultdict\n",
    "\n",
    "\n",
    "\n",
    "class Graph:\n",
    "    \n",
    "    def __init__(self):\n",
    "        self.adj_list = defaultdict(list)\n",
    "        \n",
    "    \n",
    "    def add_edge(self,a,b):\n",
    "        self.adj_list[a].append(b)\n",
    "        self.adj_list[b].append(a)\n",
    "        \n",
    "    \n",
    "    def num_connected_components(self):\n",
    "        \n",
    "        visited = set()\n",
    "        count = 0\n",
    "        \n",
    "        for k,v in self.adj_list.iteritems():\n",
    "            \n",
    "            stack = deque()\n",
    "            if k not in visited:\n",
    "                stack.append(k)\n",
    "                \n",
    "                while stack:\n",
    "                    temp = stack.popleft()\n",
    "                    \n",
    "                    \n",
    "                    if temp not in visited:\n",
    "                        visited.add(temp)\n",
    "                        stack.extend(self.adj_list[temp])\n",
    "                \n",
    "                count+=1\n",
    "            \n",
    "        \n",
    "        return count\n",
    "    \n",
    "\n",
    "g = Graph()\n",
    "\n",
    "g.add_edge(1,0)\n",
    "g.add_edge(1,2)\n",
    "g.add_edge(3,4)\n",
    "\n",
    "\n",
    "\n",
    "print g.num_connected_components()\n",
    "\n",
    "\n"
   ]
  },
  {
   "cell_type": "code",
   "execution_count": 3,
   "metadata": {
    "collapsed": false,
    "deletable": true,
    "editable": true
   },
   "outputs": [
    {
     "name": "stdout",
     "output_type": "stream",
     "text": [
      "[6.0, 0.5, -1.0, 1.0, -1.0]\n"
     ]
    }
   ],
   "source": [
    "#Evaluate Division\n",
    "#https://leetcode.com/problems/evaluate-division/description/\n",
    "\n",
    "from collections import defaultdict\n",
    "\n",
    "class Graph2:\n",
    "    \n",
    "    def __init__(self):\n",
    "        self.adj_list = defaultdict(list)\n",
    "        \n",
    "    \n",
    "    def add_edge(self,a,b,val):\n",
    "        self.adj_list[a].append((b,val))\n",
    "        self.adj_list[b].append((a,1/val))\n",
    "        \n",
    "        \n",
    "    def divide(self,a,b):\n",
    "        \n",
    "        \n",
    "        \n",
    "        if a not in self.adj_list or b not in self.adj_list:\n",
    "            return -1.0\n",
    "        \n",
    "        \n",
    "        val = 1.0\n",
    "        \n",
    "        \n",
    "        stack = []\n",
    "        visited = set()\n",
    "        \n",
    "        stack.append((a,val))\n",
    "        visited.add(a)\n",
    "        \n",
    "        while stack:\n",
    "            temp = stack.pop(0)\n",
    "            \n",
    "            \n",
    "            vals = self.adj_list[temp[0]]\n",
    "            \n",
    "            for char, val in vals:\n",
    "                new_val = val * temp[1]\n",
    "\n",
    "                if char == b:\n",
    "                    return new_val\n",
    "                    \n",
    "                \n",
    "                if char not in visited:\n",
    "                    stack.append((char, new_val))    \n",
    "                    visited.add(char)\n",
    "                    \n",
    "                \n",
    "        return -1\n",
    "                    \n",
    "           \n",
    "\n",
    "\n",
    "\n",
    "def calcEquation(equations, values, queries):\n",
    "    g = Graph2()\n",
    "    \n",
    "    for x,y in enumerate(equations):\n",
    "        g.add_edge (y[0], y[1], values[x])\n",
    "        \n",
    "    \n",
    "    result = []\n",
    "    for x in queries:\n",
    "        result.append(g.divide(x[0],x[1]))\n",
    "        \n",
    "    return result\n",
    "\n",
    "\n",
    "print calcEquation([ [\"a\", \"b\"], [\"b\", \"c\"] ], [2.0, 3.0], [ [\"a\", \"c\"], [\"b\", \"a\"], [\"a\", \"e\"], [\"a\", \"a\"], [\"x\", \"x\"] ])"
   ]
  },
  {
   "cell_type": "code",
   "execution_count": 17,
   "metadata": {
    "collapsed": false,
    "deletable": true,
    "editable": true
   },
   "outputs": [
    {
     "name": "stdout",
     "output_type": "stream",
     "text": [
      "[(1, None)]\n",
      "[(2, 1)]\n",
      "[(1, 2), (3, 2)]\n",
      "[(3, 2), (2, 1)]\n",
      "[(2, 1), (2, 3), (4, 3)]\n",
      "False\n"
     ]
    }
   ],
   "source": [
    "class Graph3:\n",
    "    \n",
    "    def __init__(self):\n",
    "        self.adj_list = defaultdict(list)\n",
    "        \n",
    "    \n",
    "    def add_edge(self,a,b):\n",
    "        self.adj_list[a].append(b)\n",
    "        self.adj_list[b].append(a)\n",
    "    \n",
    "    \n",
    "    def isValidTree(self):\n",
    "        \n",
    "        \n",
    "        visited = set()\n",
    "        for k ,v in self.adj_list.iteritems():\n",
    "            \n",
    "            if k not in visited:\n",
    "                \n",
    "            stack = []\n",
    "            \n",
    "            head = None\n",
    "            \n",
    "            stack.append((k,head))\n",
    "          \n",
    "            while stack:\n",
    "                \n",
    "                print stack\n",
    "                temp = stack.pop(0)\n",
    "\n",
    "                if temp not in visited:\n",
    "                    visited.add(temp)\n",
    "                    stack.extend([(x,temp[0]) for x in self.adj_list[temp[0]]])\n",
    "                else:\n",
    "                    \n",
    "                    return False\n",
    "                \n",
    "                \n",
    "        return True\n",
    "    \n",
    "\n",
    "g = Graph3()\n",
    "\n",
    "g.add_edge(1,2)\n",
    "g.add_edge(2,3)\n",
    "g.add_edge(3,4)\n",
    "\n",
    "\n",
    "\n",
    "                    \n",
    "                \n",
    "print g.isValidTree()\n",
    "                \n",
    "        "
   ]
  },
  {
   "cell_type": "code",
   "execution_count": 22,
   "metadata": {
    "collapsed": false,
    "deletable": true,
    "editable": true
   },
   "outputs": [
    {
     "name": "stdout",
     "output_type": "stream",
     "text": [
      "2\n"
     ]
    }
   ],
   "source": [
    "#Minimum Depth of a tree\n",
    "\n",
    "import math\n",
    "\n",
    "def treeMinDepth(node):\n",
    "    \n",
    "    if node is None:\n",
    "        return float('inf')\n",
    "    \n",
    "    \n",
    "    left = treeMinDepth(node.left)\n",
    "    right = treeMinDepth(node.right)\n",
    "    \n",
    "    if math.isinf(left) and math.isinf(right):\n",
    "        return 1\n",
    "    \n",
    "    minimum = min(left, right) + 1\n",
    "    \n",
    "    return minimum\n",
    "\n",
    "\n",
    "class TreeNode(object):\n",
    "    def __init__(self, x):\n",
    "        self.val = x\n",
    "        self.left = None\n",
    "        self.right = None\n",
    "        \n",
    "        \n",
    "node = TreeNode(10)\n",
    "node.left = TreeNode(5)\n",
    "\n",
    "\n",
    "print treeMinDepth(node)\n",
    "\n"
   ]
  },
  {
   "cell_type": "code",
   "execution_count": 27,
   "metadata": {
    "collapsed": false,
    "deletable": true,
    "editable": true
   },
   "outputs": [
    {
     "name": "stdout",
     "output_type": "stream",
     "text": [
      "42\n"
     ]
    }
   ],
   "source": [
    "#Finding maximum path array between any two nodes in a tree\n",
    "\n",
    "class TreeNode(object):\n",
    "    def __init__(self, x):\n",
    "        self.val = x\n",
    "        self.left = None\n",
    "        self.right = None\n",
    "        \n",
    "def find_max_path(node):\n",
    "    find_max_helper.max_so_far = float(\"-inf\")\n",
    "    find_max_helper(node)\n",
    "    return find_max_helper.max_so_far\n",
    "\n",
    "def find_max_helper(node):\n",
    "    if node is None:\n",
    "        return 0\n",
    "    \n",
    "    left = find_max_helper(node.left)\n",
    "    right = find_max_helper(node.right)\n",
    "    \n",
    "    max_1 = max(max(left, right) + node.val, node.val)\n",
    "    max_2 = max(max_1, left + node.val + right)\n",
    "    \n",
    "    if max_2 > find_max_helper.max_so_far:\n",
    "        find_max_helper.max_so_far = max_2\n",
    "    \n",
    "    return max_1\n",
    "\n",
    "\n",
    "\n",
    "node = TreeNode(10)\n",
    "node.left = TreeNode(2)\n",
    "node.left.left = TreeNode(20)\n",
    "node.left.right = TreeNode(1)\n",
    "node.right = TreeNode(10)\n",
    "node.right.right = TreeNode(-25)\n",
    "node.right.right.left = TreeNode(3)\n",
    "node.right.right.right = TreeNode(4)\n",
    "\n",
    "        \n",
    "    \n",
    "print find_max_path(node)\n",
    "        \n"
   ]
  },
  {
   "cell_type": "code",
   "execution_count": 1,
   "metadata": {
    "collapsed": false,
    "deletable": true,
    "editable": true
   },
   "outputs": [
    {
     "name": "stdout",
     "output_type": "stream",
     "text": [
      "27\n"
     ]
    }
   ],
   "source": [
    "#Finding the maximum path sum between two leaf nodes in a tree\n",
    "\n",
    "#Finding maximum path array between any two nodes in a tree\n",
    "\n",
    "class TreeNode(object):\n",
    "    def __init__(self, x):\n",
    "        self.val = x\n",
    "        self.left = None\n",
    "        self.right = None\n",
    "        \n",
    "def find_max_path_leaf_nodes(node):\n",
    "    find_max_path_leaf_nodes_helper.max_so_far = float(\"-inf\")\n",
    "    find_max_path_leaf_nodes_helper(node)\n",
    "    return find_max_path_leaf_nodes_helper.max_so_far\n",
    "\n",
    "def find_max_path_leaf_nodes_helper(node):\n",
    "    if node is None:\n",
    "        return float(\"-inf\")\n",
    "    \n",
    "    if node.right is None and node.left is None:\n",
    "        return node.val\n",
    "    \n",
    "    left = find_max_path_leaf_nodes_helper(node.left)\n",
    "    right = find_max_path_leaf_nodes_helper(node.right)\n",
    "    \n",
    "    \n",
    "    max_from_leaf = max(left, right) + node.val\n",
    "    \n",
    "    if node.right is not None and node.left is not None:\n",
    "        find_max_path_leaf_nodes_helper.max_so_far = max(find_max_path_leaf_nodes_helper.max_so_far, left + node.val + right)\n",
    "\n",
    "    return max_from_leaf\n",
    "\n",
    "\n",
    "\n",
    "root = TreeNode(-15)\n",
    "root.left = TreeNode(5)\n",
    "root.right = TreeNode(6)\n",
    "root.left.left = TreeNode(-8)\n",
    "root.left.right = TreeNode(1)\n",
    "root.left.left.left = TreeNode(2)\n",
    "root.left.left.right = TreeNode(6)\n",
    "root.right.left = TreeNode(3)\n",
    "root.right.right = TreeNode(9)\n",
    "root.right.right.right= TreeNode(0)\n",
    "root.right.right.right.left = TreeNode(4)\n",
    "root.right.right.right.right = TreeNode(-1)\n",
    "root.right.right.right.right.left = TreeNode(10)\n",
    "\n",
    "print find_max_path_leaf_nodes(root)"
   ]
  },
  {
   "cell_type": "code",
   "execution_count": 5,
   "metadata": {
    "collapsed": false,
    "deletable": true,
    "editable": true
   },
   "outputs": [
    {
     "name": "stdout",
     "output_type": "stream",
     "text": [
      "True\n",
      "False\n"
     ]
    }
   ],
   "source": [
    "#Check if a binary tree is a full binary tree\n",
    "\n",
    "def isFullBinaryTree(root):\n",
    "    if root.left is None and root.right is None:\n",
    "        return True\n",
    "    elif root.left is None:\n",
    "        return False\n",
    "    elif root.right is None:\n",
    "        return False\n",
    "    \n",
    "    \n",
    "    \n",
    "    left = isFullBinaryTree(root.left)\n",
    "    right = isFullBinaryTree(root.right)\n",
    "    \n",
    "    \n",
    "    if left and right:\n",
    "        return True\n",
    "    else:\n",
    "        return False\n",
    "    \n",
    "    \n",
    "root = TreeNode(1)\n",
    "root.left = TreeNode(2)\n",
    "root.right = TreeNode(3)\n",
    "root.left.left = TreeNode(4)\n",
    "root.left.right = TreeNode(5)\n",
    "\n",
    "print isFullBinaryTree(root)\n",
    "\n",
    "root = TreeNode(1)\n",
    "root.left = TreeNode(2)\n",
    "root.right = TreeNode(3)\n",
    "root.left.left = TreeNode(4)\n",
    "\n",
    "print isFullBinaryTree(root)\n",
    "\n",
    "\n",
    "\n"
   ]
  },
  {
   "cell_type": "code",
   "execution_count": 28,
   "metadata": {
    "collapsed": false,
    "deletable": true,
    "editable": true
   },
   "outputs": [
    {
     "name": "stdout",
     "output_type": "stream",
     "text": [
      "[5, 10, 4, 14, 25]\n"
     ]
    }
   ],
   "source": [
    "#Bottom Level Traversal of a Tree\n",
    "from collections import deque\n",
    "import operator\n",
    "\n",
    "def bottomLevelTraversal(root):\n",
    "    \n",
    "    queue = deque()\n",
    "    \n",
    "    val = dict()\n",
    "    \n",
    "    queue.append((root, 0))\n",
    "    \n",
    "    result = \"\"\n",
    "    while queue:\n",
    "        temp = queue.popleft()\n",
    "        \n",
    "\n",
    "        val[temp[1]] = temp[0].val\n",
    "\n",
    "        if temp[0].left:\n",
    "            queue.append((temp[0].left, temp[1] - 1))\n",
    "        \n",
    "        if temp[0].right:\n",
    "            queue.append((temp[0].right, temp[1] + 1))\n",
    "    \n",
    "    result = [0]*len(val)\n",
    "    \n",
    "    for k,v in val.iteritems():\n",
    "        result[k] = v\n",
    "    \n",
    "    half = len(result)/2 + 1\n",
    "    \n",
    "    return result[half:] + result[:half]\n",
    "        \n",
    "    \n",
    "\n",
    "\n",
    "root =  TreeNode(20)\n",
    "root.left =  TreeNode(8)\n",
    "root.right =  TreeNode(22)\n",
    "root.left.left =  TreeNode(5)\n",
    "root.left.right =  TreeNode(3)\n",
    "root.right.left =  TreeNode(4)\n",
    "root.right.right =  TreeNode(25)\n",
    "root.left.right.left =  TreeNode(10)\n",
    "root.left.right.right = TreeNode(14)\n",
    "\n",
    "\n",
    "print bottomLevelTraversal(root)\n",
    "\n",
    "\n",
    "\n",
    "        \n",
    "        \n",
    "    \n",
    "    \n",
    "    "
   ]
  },
  {
   "cell_type": "code",
   "execution_count": 35,
   "metadata": {
    "collapsed": false,
    "deletable": true,
    "editable": true
   },
   "outputs": [
    {
     "name": "stdout",
     "output_type": "stream",
     "text": [
      "[4, 2, 1, 3, 7]\n"
     ]
    }
   ],
   "source": [
    "#Top view binary tree\n",
    "#Bottom Level Traversal of a Tree\n",
    "from collections import deque\n",
    "import operator\n",
    "\n",
    "def topLevelTraversal(root):\n",
    "    \n",
    "    queue = deque()\n",
    "    \n",
    "    val = dict()\n",
    "    \n",
    "    queue.append((root, 0))\n",
    "    \n",
    "    result = \"\"\n",
    "    while queue:\n",
    "        temp = queue.popleft()\n",
    "        \n",
    "        if temp[1] not in val:\n",
    "            val[temp[1]] = temp[0].val\n",
    "\n",
    "        if temp[0].left:\n",
    "            queue.append((temp[0].left, temp[1] - 1))\n",
    "        \n",
    "        if temp[0].right:\n",
    "            queue.append((temp[0].right, temp[1] + 1))\n",
    "    \n",
    "    result = [0]*len(val)\n",
    "    \n",
    "    for k,v in val.iteritems():\n",
    "        result[k] = v\n",
    "    \n",
    "    half = len(result)/2 + 1\n",
    "    \n",
    "    return result[half:] + result[:half]\n",
    "        \n",
    "    \n",
    "\n",
    "\n",
    "root =  TreeNode(1)\n",
    "root.left =  TreeNode(2)\n",
    "root.right =  TreeNode(3)\n",
    "root.left.left =  TreeNode(4)\n",
    "root.left.right =  TreeNode(5)\n",
    "root.right.left =  TreeNode(6)\n",
    "root.right.right =  TreeNode(7)\n",
    "\n",
    "\n",
    "print topLevelTraversal(root)\n",
    "\n",
    "\n",
    "\n",
    "        "
   ]
  },
  {
   "cell_type": "code",
   "execution_count": 48,
   "metadata": {
    "collapsed": false,
    "deletable": true,
    "editable": true
   },
   "outputs": [
    {
     "name": "stdout",
     "output_type": "stream",
     "text": [
      "#c#b#a#d#e# #c#b# abc###d#e## bc###\n",
      "True\n"
     ]
    }
   ],
   "source": [
    "#Check if a tree is a subtree of the other\n",
    "#Idea: Find in and pre-order and check for substrings\n",
    "\n",
    "class Node(object):\n",
    "    def __init__(self, x):\n",
    "        self.val = x\n",
    "        self.left = None\n",
    "        self.right = None\n",
    "        \n",
    "\n",
    "def preorder(node, arr):\n",
    "    if not node:\n",
    "        arr.append(\"#\")\n",
    "    else:\n",
    "        arr.append(node.val)\n",
    "        preorder(node.left,arr)\n",
    "        preorder(node.right,arr)\n",
    "    \n",
    "    return arr\n",
    "        \n",
    "def inorder(node, arr):\n",
    "    if not node:\n",
    "        arr.append(\"#\")\n",
    "    else:\n",
    "        inorder(node.left,arr)\n",
    "        arr.append(node.val)\n",
    "        inorder(node.right,arr)\n",
    "    \n",
    "    return arr\n",
    "        \n",
    "\n",
    "def checksubtree(root_a, root_b):\n",
    "    arr = []\n",
    "    pre1 = \"\".join(preorder(root_a, arr))\n",
    "\n",
    "    arr = []\n",
    "    in1 = \"\".join(inorder(root_a, arr))\n",
    "    \n",
    "    arr = []\n",
    "    pre2 = \"\".join(preorder(root_b, arr))\n",
    "\n",
    "    arr = []\n",
    "    in2 = \"\".join(inorder(root_b, arr))\n",
    "    \n",
    "    print in1, in2, pre1, pre2\n",
    "    if len(in2) < len(in1):\n",
    "        if in2 in in1 and pre2 in pre1:\n",
    "            return True\n",
    "        \n",
    "        return False\n",
    "    else:\n",
    "        if in1 in in2:\n",
    "            return True\n",
    "        \n",
    "        return False\n",
    "\n",
    "\n",
    "T = Node('a')\n",
    "T.left =  Node('b');\n",
    "T.right =  Node('d');\n",
    "T.left.left =  Node('c');\n",
    "T.right.right =  Node('e');\n",
    " \n",
    "S =  Node('b');\n",
    "S.left =  Node('c');\n",
    "\n",
    "print checksubtree(T,S)\n",
    "        \n",
    "    "
   ]
  },
  {
   "cell_type": "code",
   "execution_count": 25,
   "metadata": {
    "collapsed": false,
    "deletable": true,
    "editable": true
   },
   "outputs": [
    {
     "name": "stdout",
     "output_type": "stream",
     "text": [
      "['(1,8)', '(2,7)', '(3,6)', '(4,5)']\n",
      "['((1,8),(4,5))', '((2,7),(3,6))']\n",
      "(((1,8),(4,5)),((2,7),(3,6)))\n"
     ]
    }
   ],
   "source": [
    "#Output Contest Matches\n",
    "# https://leetcode.com/problems/output-contest-matches/discuss/\n",
    "\n",
    "\n",
    "def output_contest_matches(n):\n",
    "    arr = [str(x) for x in xrange(1,n+1)]\n",
    "    \n",
    "    if n ==2:\n",
    "        return (\"1\",\"2\")\n",
    "    \n",
    "    while len(arr) != 2:\n",
    "        temp = [0]*(len(arr)/2)\n",
    "        for x in xrange(len(arr)/2):\n",
    "            temp[x] = \"(\" + arr[x] + \",\" + arr[len(arr) - x - 1] + \")\"\n",
    "\n",
    "        print temp\n",
    "        arr = temp\n",
    "        \n",
    "    return \"(%s)\"%\",\".join(x for x in temp)\n",
    "\n",
    "\n",
    "print output_contest_matches(8)\n",
    "        \n",
    "        \n",
    "            "
   ]
  },
  {
   "cell_type": "code",
   "execution_count": 62,
   "metadata": {
    "collapsed": false,
    "deletable": true,
    "editable": true
   },
   "outputs": [
    {
     "name": "stdout",
     "output_type": "stream",
     "text": [
      "['abc']\n",
      "/abc\n"
     ]
    }
   ],
   "source": [
    "#71. Simplify Path\n",
    "#LeetCode\n",
    "# https://leetcode.com/problems/simplify-path/description/\n",
    "\n",
    "def getwords(s):\n",
    "    res = []\n",
    "    \n",
    "    temp = \"\"\n",
    "    \n",
    "    for x in s:\n",
    "\n",
    "        if x!= \"/\":\n",
    "            temp +=x\n",
    "        else:\n",
    "            if temp:\n",
    "                res.append(temp)\n",
    "                temp = \"\"\n",
    "            \n",
    "    return res\n",
    "    \n",
    "def simplify(s):\n",
    "    \n",
    "    temp =  getwords(s)\n",
    "    \n",
    "    stack = []\n",
    "    \n",
    "    for x in temp:\n",
    "        if x:\n",
    "            if x == \"..\":\n",
    "                if stack:\n",
    "                    stack.pop()\n",
    "            elif x != \".\":\n",
    "                stack.append(x)\n",
    "                \n",
    "    if not stack:\n",
    "        return \"/\"\n",
    "    s\n",
    "    print stack\n",
    "    return \"/%s\"%(\"/\".join(stack))\n",
    "\n",
    "\n",
    "\n",
    "print simplify(\"/../abc/\")\n",
    "        \n",
    "    "
   ]
  },
  {
   "cell_type": "code",
   "execution_count": 67,
   "metadata": {
    "collapsed": false,
    "deletable": true,
    "editable": true
   },
   "outputs": [
    {
     "name": "stdout",
     "output_type": "stream",
     "text": [
      "0\n",
      "4\n",
      "8\n",
      "12\n",
      "pahn\n",
      "1\n",
      "5\n",
      "9\n",
      "13\n",
      "pahnalig\n",
      "2\n",
      "6\n",
      "10\n",
      "pahnaligyir\n",
      "pahnaligyir\n"
     ]
    }
   ],
   "source": [
    "#ZigZag Conversion\n",
    "#Leetcode\n",
    "# https://leetcode.com/problems/zigzag-conversion/description/\n",
    "\n",
    "#NOT WORKING AT THE MOMENT\n",
    "\n",
    "def zigzag(s, numRows):\n",
    "    result = \"\"\n",
    "    for x in xrange(numRows):\n",
    "        i = x\n",
    "        while i < len(s):\n",
    "            print i\n",
    "            result += s[i]\n",
    "            i += (numRows - 1)*2\n",
    "        \n",
    "        print result\n",
    "    \n",
    "    return result\n",
    "\n",
    "\n",
    "print zigzag(\"paypalishiring\", 3)\n",
    "\n",
    "\n",
    "\n",
    "    \n",
    "        \n",
    "    "
   ]
  },
  {
   "cell_type": "code",
   "execution_count": 20,
   "metadata": {
    "collapsed": false,
    "deletable": true,
    "editable": true
   },
   "outputs": [
    {
     "name": "stdout",
     "output_type": "stream",
     "text": [
      "4\n",
      "['1', '5', '4', '3', '2', '1']\n"
     ]
    },
    {
     "ename": "TypeError",
     "evalue": "unsupported operand type(s) for +: 'int' and 'str'",
     "output_type": "error",
     "traceback": [
      "\u001b[0;31m---------------------------------------------------------------------------\u001b[0m",
      "\u001b[0;31mTypeError\u001b[0m                                 Traceback (most recent call last)",
      "\u001b[0;32m<ipython-input-20-05e7bf374854>\u001b[0m in \u001b[0;36m<module>\u001b[0;34m()\u001b[0m\n\u001b[1;32m     47\u001b[0m \u001b[0;34m\u001b[0m\u001b[0m\n\u001b[1;32m     48\u001b[0m \u001b[0;34m\u001b[0m\u001b[0m\n\u001b[0;32m---> 49\u001b[0;31m \u001b[0mnext_greater_number\u001b[0m\u001b[0;34m(\u001b[0m\u001b[0;36m1242154321\u001b[0m\u001b[0;34m)\u001b[0m\u001b[0;34m\u001b[0m\u001b[0m\n\u001b[0m\u001b[1;32m     50\u001b[0m \u001b[0;34m\u001b[0m\u001b[0m\n",
      "\u001b[0;32m<ipython-input-20-05e7bf374854>\u001b[0m in \u001b[0;36mnext_greater_number\u001b[0;34m(num)\u001b[0m\n\u001b[1;32m     28\u001b[0m \u001b[0;34m\u001b[0m\u001b[0m\n\u001b[1;32m     29\u001b[0m \u001b[0;34m\u001b[0m\u001b[0m\n\u001b[0;32m---> 30\u001b[0;31m     \u001b[0msmallest_max\u001b[0m \u001b[0;34m=\u001b[0m \u001b[0mmin_pos\u001b[0m \u001b[0;34m+\u001b[0m \u001b[0mfind_smallest_max\u001b[0m\u001b[0;34m(\u001b[0m\u001b[0mval\u001b[0m\u001b[0;34m[\u001b[0m\u001b[0mmin_pos\u001b[0m\u001b[0;34m:\u001b[0m\u001b[0;34m]\u001b[0m\u001b[0;34m)\u001b[0m\u001b[0;34m\u001b[0m\u001b[0m\n\u001b[0m\u001b[1;32m     31\u001b[0m \u001b[0;34m\u001b[0m\u001b[0m\n\u001b[1;32m     32\u001b[0m \u001b[0;34m\u001b[0m\u001b[0m\n",
      "\u001b[0;31mTypeError\u001b[0m: unsupported operand type(s) for +: 'int' and 'str'"
     ]
    }
   ],
   "source": [
    "#Next Greater Element\n",
    "#Given a positive 32-bit integer n, you need to find the smallest 32-bit integer \n",
    "#which has exactly the same digits existing in the integer n and is greater in value than n.\n",
    "#If no such positive 32-bit integer exists, you need to return -1.\n",
    "# Not WORKINMG\n",
    "def find_smallest_max(num):\n",
    "    print num\n",
    "    val = num[0]\n",
    "    smallest_max = max(num)\n",
    "    \n",
    "    \n",
    "    return smallest_max\n",
    "    \n",
    "def next_greater_number(num):\n",
    "    val = [x for x in str(num)]\n",
    "    \n",
    "    min_pos = 0\n",
    "    visited = dict()\n",
    "    for x in xrange(1,len(val)):\n",
    "        number = val[len(val) - x - 1]\n",
    "        if number < val[min_pos]:\n",
    "            min_pos = len(val) - x - 1\n",
    "            break\n",
    "        else:\n",
    "            min_pos = len(val) - x - 1\n",
    "        \n",
    "    print min_pos\n",
    "    \n",
    "    \n",
    "    smallest_max = min_pos + find_smallest_max(val[min_pos:])\n",
    "    \n",
    "    \n",
    "    print smallest_max\n",
    "    \n",
    "    temp = val[min_pos]\n",
    "    val[min_pos] = val[smallest_max]\n",
    "    \n",
    "    print val\n",
    "    val[smallest_max] = temp\n",
    "    \n",
    "    print val[min_pos:]\n",
    "    \n",
    "    val[min_pos:] = val[min_pos:][::-1]\n",
    "    \n",
    "    return val\n",
    "    \n",
    "\n",
    "    \n",
    "next_greater_number(1242154321)\n",
    "    "
   ]
  },
  {
   "cell_type": "markdown",
   "metadata": {
    "deletable": true,
    "editable": true
   },
   "source": [
    "3 Sum <br>\n",
    "https://leetcode.com/problems/3sum/description/\n",
    "\n",
    "Given a list, find a,b,c such that a + b + c = 0. No duplicates allowed in a list."
   ]
  },
  {
   "cell_type": "code",
   "execution_count": null,
   "metadata": {
    "collapsed": false,
    "deletable": true,
    "editable": true
   },
   "outputs": [],
   "source": [
    "def ThreeSum(arr):\n",
    "    arr = sorted(arr)\n",
    "    result = []\n",
    "    for x in xrange(len(arr) - 2):\n",
    "        if x == 0 or x > 0 and arr[x] != arr[x-1]:\n",
    "            lower = x + 1\n",
    "            higher = len(arr) - 1\n",
    "            need = -arr[x]\n",
    "            while lower < higher:\n",
    "                print x, lower, higher\n",
    "                if arr[lower] + arr[higher] == need:\n",
    "                    result.append((arr[x], arr[lower], arr[higher]))\n",
    "                    while lower < higher and arr[lower] == arr[lower + 1]:\n",
    "                        lower += 1\n",
    "                    while lower < higher and arr[higher] == arr[higher - 1]:\n",
    "                        higher -= 1\n",
    "\n",
    "                    lower+=1\n",
    "                    higher -=1\n",
    "                elif arr[lower] + arr[higher] > need:\n",
    "                    higher -=1\n",
    "                else:\n",
    "\n",
    "                    lower +=1\n",
    "    \n",
    "    return result\n",
    "\n",
    "\n",
    "\n",
    "print ThreeSum([-1,0,1,2,-1,-4])\n",
    "        "
   ]
  },
  {
   "cell_type": "markdown",
   "metadata": {
    "collapsed": true,
    "deletable": true,
    "editable": true
   },
   "source": [
    "Missing Ranges <br>\n",
    "https://leetcode.com/problems/missing-ranges/description/\n",
    "    \n"
   ]
  },
  {
   "cell_type": "code",
   "execution_count": 75,
   "metadata": {
    "collapsed": false,
    "deletable": true,
    "editable": true
   },
   "outputs": [
    {
     "name": "stdout",
     "output_type": "stream",
     "text": [
      "['2->100']\n"
     ]
    }
   ],
   "source": [
    "def missing_ranges(arr, lower, upper):\n",
    "    result = []\n",
    "    \n",
    "    if not arr:\n",
    "        if lower == upper:\n",
    "            return lower\n",
    "        else:\n",
    "            return \"%d->%d\"%(lower, upper)\n",
    "    val = arr[0]\n",
    "    prev = lower\n",
    "    \n",
    "    \n",
    "    if val - prev > 1:\n",
    "        result.append(\"%d->%d\"%(lower, val - 1))\n",
    "    elif val- prev == 1:\n",
    "        result.append(\"%d\"%lower)\n",
    "            \n",
    "    for x in xrange(1,len(arr)):\n",
    "        val = arr[x]\n",
    "        prev = arr[x - 1]\n",
    "            \n",
    "        if val - prev > 2:\n",
    "            result.append(\"%d->%d\"%(arr[x-1] + 1, arr[x] - 1))\n",
    "        elif val- prev == 2:\n",
    "            result.append(\"%d\"%(arr[x-1] + 1))\n",
    "    \n",
    "    val = upper\n",
    "    prev = arr[-1]\n",
    "    \n",
    "    if val - prev > 1:\n",
    "        result.append(\"%d->%d\"%(prev + 1, val))\n",
    "    elif val- prev == 1:\n",
    "        result.append(\"%d\"%val)\n",
    "            \n",
    "    return result\n",
    "\n",
    "\n",
    "print missing_ranges([1], 1, 100)\n",
    "            "
   ]
  },
  {
   "cell_type": "markdown",
   "metadata": {
    "deletable": true,
    "editable": true
   },
   "source": [
    "Maximum Product Subarray <br>\n",
    "https://leetcode.com/problems/maximum-product-subarray/description/\n",
    "\n",
    "Since negative and negative can be positive, have to keep track of the smallest number here as well."
   ]
  },
  {
   "cell_type": "code",
   "execution_count": 87,
   "metadata": {
    "collapsed": false,
    "deletable": true,
    "editable": true
   },
   "outputs": [
    {
     "name": "stdout",
     "output_type": "stream",
     "text": [
      "(-3, 12, 12)\n",
      "-4\n",
      "(-2, -24, 6)\n",
      "-3\n",
      "12\n"
     ]
    }
   ],
   "source": [
    "def max_product_subarray(arr):\n",
    "    \n",
    "    if not arr:\n",
    "        return 0\n",
    "    \n",
    "    max_current = arr[0]\n",
    "    min_current = arr[0]\n",
    "    \n",
    "    max_total = arr[0]\n",
    "    for x in xrange(1,len(arr)):\n",
    "        \n",
    "        max_current_here = max(arr[x], max(max_current*arr[x], min_current*arr[x]))\n",
    "        min_current_here = min(arr[x], min(min_current*arr[x], max_current*arr[x]))\n",
    "        \n",
    "        \n",
    "        max_total = max(max_current_here, max_total)\n",
    "        max_current = max_current_here\n",
    "        min_current = min_current_here\n",
    "        \n",
    "    return max_total\n",
    "\n",
    "print max_product_subarray([-4,-3,-2])"
   ]
  },
  {
   "cell_type": "code",
   "execution_count": 19,
   "metadata": {
    "collapsed": false,
    "deletable": true,
    "editable": true
   },
   "outputs": [
    {
     "name": "stdout",
     "output_type": "stream",
     "text": [
      "[1]\n"
     ]
    }
   ],
   "source": [
    "#Majority Element\n",
    "\n",
    "#Given an integer array of size n, find all elements that appear more than ⌊ n/3 ⌋ times. \n",
    "#The algorithm should run in linear time and in O(1) space.\n",
    "\n",
    "\n",
    "def majority_element(arr):\n",
    "    num1 = arr[0]\n",
    "    num2 = arr[1]\n",
    "    \n",
    "    \n",
    "    count_dict = dict()\n",
    "    \n",
    "    count1= 0\n",
    "    count2 = 0\n",
    "    \n",
    "    \n",
    "    for x in arr:\n",
    "        if x == num1:\n",
    "            count1 +=1\n",
    "        elif x == num2:\n",
    "            count2 +=1\n",
    "        elif count1 == 0:\n",
    "            num1 = x\n",
    "            count1 = 1\n",
    "        elif count2 == 0:\n",
    "            num2 = x\n",
    "            count2 = 1\n",
    "        else:\n",
    "            count1 -= 1\n",
    "            count2 -= 1\n",
    "    \n",
    "    result = []\n",
    "    \n",
    "    if arr.count(num1) > len(arr)/3:\n",
    "        result.append(num1)\n",
    "        \n",
    "    if arr.count(num2) > len(arr)/3 and num1 != num2:\n",
    "        result.append(num2)\n",
    "    \n",
    "    \n",
    "    return result\n",
    "\n",
    "\n",
    "print majority_element([1,1,1,1,1])\n"
   ]
  },
  {
   "cell_type": "code",
   "execution_count": 91,
   "metadata": {
    "collapsed": false,
    "deletable": true,
    "editable": true
   },
   "outputs": [
    {
     "name": "stdout",
     "output_type": "stream",
     "text": [
      "[2, 1]\n"
     ]
    }
   ],
   "source": [
    "#Next Permutation\n",
    "#https://leetcode.com/problems/next-permutation/description/\n",
    "\n",
    "def swap_and_reverse(arr, index):\n",
    "    i = len(arr) - 1\n",
    "    num = arr[index]\n",
    "    temp = arr[index]\n",
    "    smallest_max_index = len(arr) - 1\n",
    "    while i >= index:\n",
    "        if int(arr[i]) > int(num):\n",
    "\n",
    "            arr[index] = arr[i]\n",
    "            arr[i] = temp\n",
    "            break\n",
    "        i-=1\n",
    "    arr[index+1:] = arr[index+1:][::-1]\n",
    "\n",
    "\n",
    "def next_permutation(s):\n",
    "    if not s:\n",
    "        pass\n",
    "    elif len(s) == 2:\n",
    "        if s[0] < s[1]:\n",
    "            s[:] = s[::-1]\n",
    "        \n",
    "    else:\n",
    "        smaller_num = s[len(s) - 1]\n",
    "        index = len(s) - 2\n",
    "        while index >=0:\n",
    "            if int(s[index]) < int(smaller_num):\n",
    "                swap_and_reverse(s, index)\n",
    "                break\n",
    "            else:\n",
    "                smaller_num = s[index]\n",
    "            index-=1\n",
    "        \n",
    "\n",
    "        if index == -1:\n",
    "            s[:] = s[::-1]\n",
    "\n",
    "\n",
    "\n",
    "\n",
    "arr = [1,2]\n",
    "next_permutation(arr)\n",
    "print arr"
   ]
  },
  {
   "cell_type": "code",
   "execution_count": 99,
   "metadata": {
    "collapsed": false,
    "deletable": true,
    "editable": true
   },
   "outputs": [
    {
     "name": "stdout",
     "output_type": "stream",
     "text": [
      "False\n"
     ]
    }
   ],
   "source": [
    "#Jump Game\n",
    "# Given an array of non-negative integers, you are initially positioned at the first index of the array.\n",
    "#Each element in the array represents your maximum jump length at that position.\n",
    "#Determine if you are able to reach the last index.\n",
    "\n",
    "\n",
    "#IDEA: Start from the back, keeping final_pos as the last item. If a position can reach final_pos,\n",
    "# change that pos to final_pos and keep repeating until reaching the start of the list.\n",
    "\n",
    "\n",
    "\n",
    "\n",
    "def can_reach_last_index(arr):\n",
    "    if not arr:\n",
    "        return False\n",
    "    if len(arr) == 1:\n",
    "        return arr[0] == 0\n",
    "\n",
    "    \n",
    "    final_pos = len(arr) - 1\n",
    "    \n",
    "    x = len(arr) - 2\n",
    "    while x >=0:\n",
    "        if x + arr[x] == final_pos:\n",
    "            print \"ASD\"\n",
    "            final_pos = x\n",
    "        \n",
    "        x-=1\n",
    "        \n",
    "    return final_pos == 0\n",
    "\n",
    "\n",
    "print can_reach_last_index([2,0])\n",
    "        \n",
    "\n",
    "\n",
    "def can_jump(arr):\n",
    "    max_val = 0\n",
    "    \n",
    "    for i, val in enumerate(arr):\n",
    "        if i > max_val:\n",
    "            return False\n",
    "    \n",
    "        max_val = max(max_val, i + val)\n",
    "    \n",
    "    return True\n",
    "\n"
   ]
  },
  {
   "cell_type": "code",
   "execution_count": 18,
   "metadata": {
    "collapsed": false,
    "deletable": true,
    "editable": true
   },
   "outputs": [
    {
     "name": "stdout",
     "output_type": "stream",
     "text": [
      "['1->2', '10', '12->13']\n"
     ]
    }
   ],
   "source": [
    "#Summary Ranges\n",
    "#Leetcode\n",
    "# Given a sorted integer array without duplicates, return the summary of its ranges.\n",
    "\n",
    "\n",
    "def summary_ranges(arr):\n",
    "    \n",
    "    if not arr:\n",
    "        return []\n",
    "    \n",
    "    if len(arr) == 1:\n",
    "        return [str(arr[0])]\n",
    "    \n",
    "    \n",
    "    start = arr[0]\n",
    "    count = 0\n",
    "    result = []\n",
    "    range = \"\"\n",
    "    for x in xrange(1,len(arr)):\n",
    "        val = arr[x]\n",
    "        \n",
    "        if val - (start + count) == 1:\n",
    "            count += 1\n",
    "        else:\n",
    "            if count == 0:\n",
    "                result.append(str(start))\n",
    "                start = val\n",
    "            else:\n",
    "                result.append(\"%d->%d\"%(start, start + count))\n",
    "                start = val\n",
    "                count = 0\n",
    "    \n",
    "    if count != 0:\n",
    "        result.append(\"%d->%d\"%(start, start + count))\n",
    "    else:\n",
    "        result.append(str(start))\n",
    "    \n",
    "    return result\n",
    "    \n",
    "\n",
    "print summary_ranges([1,2,10,12,13])"
   ]
  },
  {
   "cell_type": "code",
   "execution_count": 36,
   "metadata": {
    "collapsed": false,
    "deletable": true,
    "editable": true
   },
   "outputs": [
    {
     "name": "stdout",
     "output_type": "stream",
     "text": [
      "7\n",
      "0\n",
      "0\n"
     ]
    }
   ],
   "source": [
    "import math\n",
    "#Minimum Size SubArray Sum\n",
    "#Leetcode\n",
    "\n",
    "# Problem: Given an array of n positive integers and a positive integer s, \n",
    "# find the minimal length of a contiguous subarray of which the sum ≥ s. If there isn't one, return 0 instead.\n",
    "\n",
    "def min_size_subarray_sum(arr, s):\n",
    "    \n",
    "    if not arr:\n",
    "        return 0\n",
    "    \n",
    "    if s == 0:\n",
    "        return 0\n",
    "    \n",
    "    \n",
    "    min_val = float('inf')\n",
    "    \n",
    "    total_so_far = 0\n",
    "    start = 0\n",
    "    for i, num in enumerate(arr):\n",
    "        total_so_far += num\n",
    "        \n",
    "        while total_so_far >= s:\n",
    "\n",
    "            length = i - start + 1\n",
    "\n",
    "            min_val = min(min_val, length)\n",
    "\n",
    "            total_so_far -= arr[start]\n",
    "            start += 1\n",
    "        \n",
    "    \n",
    "    if math.isinf(min_val):\n",
    "        return 0\n",
    "    \n",
    "    return min_val\n",
    "            \n",
    "    \n",
    "print min_size_subarray_sum([1,1,1,1,1,1,1],7)\n",
    "print min_size_subarray_sum([],7)\n",
    "print min_size_subarray_sum([1,2],7)"
   ]
  },
  {
   "cell_type": "code",
   "execution_count": 5,
   "metadata": {
    "collapsed": false,
    "deletable": true,
    "editable": true
   },
   "outputs": [
    {
     "name": "stdout",
     "output_type": "stream",
     "text": [
      "\n"
     ]
    }
   ],
   "source": [
    "def remove_k_digits(num, k):\n",
    "    \n",
    "    result = num\n",
    "    \n",
    "    \n",
    "    for x in xrange(k):\n",
    "        for x in xrange(len(result)-1):\n",
    "            if result[x] > result[x+1]:\n",
    "                result = result[:x] + result[x+1:]\n",
    "                break\n",
    "            \n",
    "            elif \n",
    "    \n",
    "    result = result[:len(result) - 1]\n",
    "    return result\n",
    "\n",
    "\n",
    "print remove_k_digits(\"12345112\", 5)\n",
    "                "
   ]
  },
  {
   "cell_type": "code",
   "execution_count": 13,
   "metadata": {
    "collapsed": false,
    "deletable": true,
    "editable": true
   },
   "outputs": [
    {
     "name": "stdout",
     "output_type": "stream",
     "text": [
      "['10']\n",
      "['10', '6']\n",
      "['10', '6', '9']\n",
      "['10', '6', '9', '3']\n",
      "['10', '6', 12]\n",
      "['10', '6', 12, '-11']\n",
      "['10', '6', -132]\n",
      "['10', -1]\n",
      "[-10]\n",
      "[-10, '17']\n",
      "[7]\n",
      "[7, '5']\n",
      "[12]\n",
      "12\n"
     ]
    }
   ],
   "source": [
    "# Evaluate Reverse Polish Notation\n",
    "\n",
    "def ev_rev_polish_notation(arr):\n",
    "    stack = []\n",
    "    \n",
    "    \n",
    "    \n",
    "    for x in arr:\n",
    "        if x in \"+-*/\":\n",
    "            first =  int(stack.pop())\n",
    "            second = int(stack. pop())\n",
    "            \n",
    "            if x == \"+\":\n",
    "                stack.append(first + second)\n",
    "            elif x == \"*\":\n",
    "                stack.append(first * second)\n",
    "            elif x == \"-\":\n",
    "                stack.append( - first + second)\n",
    "            elif x == \"/\":\n",
    "                stack.append(second / first)\n",
    "        else:\n",
    "            stack.append(x)\n",
    "        \n",
    "        print stack\n",
    "        \n",
    "    return stack.pop()\n",
    "\n",
    "print ev_rev_polish_notation([\"10\",\"6\",\"9\",\"3\",\"+\",\"-11\",\"*\",\"/\",\"*\",\"17\",\"+\",\"5\",\"+\"])"
   ]
  },
  {
   "cell_type": "code",
   "execution_count": 33,
   "metadata": {
    "collapsed": false,
    "deletable": true,
    "editable": true
   },
   "outputs": [
    {
     "name": "stdout",
     "output_type": "stream",
     "text": [
      "deque([1, 2, 3, 4, 5, 7, 9])\n"
     ]
    }
   ],
   "source": [
    "from collections import deque\n",
    "\n",
    "class BSTIterator:\n",
    "    def __init__(self, root):\n",
    "        self.queue = deque()\n",
    "        \n",
    "        self.helper(root)\n",
    "        \n",
    "    def helper(self, root):\n",
    "        \n",
    "        if root is not None:\n",
    "            self.helper(root.left)\n",
    "            self.queue.append(root.val)\n",
    "            self.helper(root.right)\n",
    "        \n",
    "    def printQueue(self):\n",
    "        print self.queue\n",
    "        \n",
    "    def next(self):\n",
    "        return self.queue.popleft()\n",
    "    \n",
    "    def hasnext(self):\n",
    "        return len(self.queue) != 0\n",
    "        \n",
    "class TreeNode(object):\n",
    "    def __init__(self, x):\n",
    "        self.val = x\n",
    "        self.left = None\n",
    "        self.right = None\n",
    "        \n",
    "        \n",
    "\n",
    "node = TreeNode(4)\n",
    "node.left = TreeNode(2)\n",
    "node.right = TreeNode(7)\n",
    "node.left.left =  TreeNode(1)\n",
    "node.left.right =  TreeNode(3)\n",
    "node.right.left =  TreeNode(5)\n",
    "node.right.right = TreeNode(9)\n",
    "\n",
    "\n",
    "iterator = BSTIterator(node)\n",
    "\n",
    "        \n",
    "iterator.printQueue()\n",
    "        "
   ]
  },
  {
   "cell_type": "code",
   "execution_count": 29,
   "metadata": {
    "collapsed": true,
    "deletable": true,
    "editable": true
   },
   "outputs": [],
   "source": [
    "#Judge Route Circle\n",
    "\"\"\"\n",
    "Initially, there is a Robot at position (0, 0). Given a sequence of its moves, judge if this robot makes a circle, which means it moves back to the original place.\n",
    "\n",
    "The move sequence is represented by a string. And each move is represent by a character. \n",
    "The valid robot moves are R (Right), L (Left), U (Up) and D (down).\n",
    "The output should be true or false representing whether the robot makes a circle.\n",
    "\"\"\"\n",
    "def judge_route_circle(s):\n",
    "    \n",
    "    if not s:\n",
    "        return False\n",
    "    \n",
    "    horizontal = 0\n",
    "    \n",
    "    vertical = 0\n",
    "    \n",
    "    \n",
    "    for x in s:\n",
    "        if x == \"U\":\n",
    "            vertical += 1\n",
    "        elif x == \"D\":\n",
    "            vertical -=1\n",
    "        elif x == \"L\":\n",
    "            horizontal += 1\n",
    "        else:\n",
    "            horizontal -= 1\n",
    "            \n",
    "    \n",
    "    return horizontal == 0 and vertical == 0\n",
    "\n",
    "\n"
   ]
  },
  {
   "cell_type": "code",
   "execution_count": 3,
   "metadata": {
    "collapsed": false
   },
   "outputs": [
    {
     "name": "stdout",
     "output_type": "stream",
     "text": [
      "True\n",
      "True\n",
      "False\n",
      "False\n",
      "False\n",
      "True\n"
     ]
    }
   ],
   "source": [
    "'''\n",
    "Logger Rate Limiter\n",
    "\n",
    "Design a logger system that receive stream of messages along with its timestamps, \n",
    "each message should be printed if and only if it is not printed in the last 10 seconds.\n",
    "\n",
    "Given a message and a timestamp (in seconds granularity),\n",
    "return true if the message should be printed in the given timestamp, otherwise returns false.\n",
    "\n",
    "It is possible that several messages arrive roughly at the same time.\n",
    "'''\n",
    "\n",
    "\n",
    "class Logger:\n",
    "    def __init__(self):\n",
    "        self.map = {}\n",
    "        \n",
    "    \n",
    "    def shouldPrintMessage(self, time, msg):\n",
    "        if msg not in self.map:\n",
    "            self.map[msg] = time\n",
    "            return True\n",
    "        \n",
    "        diff = time - self.map[msg] \n",
    "        \n",
    "\n",
    "        \n",
    "        if diff >= 10:\n",
    "            self.map[msg] = time\n",
    "            return True\n",
    "        \n",
    "        return False\n",
    "    \n",
    "    \n",
    "logger = Logger()\n",
    "\n",
    "print logger.shouldPrintMessage(1, \"foo\") \n",
    "\n",
    "print logger.shouldPrintMessage(2,\"bar\")\n",
    "\n",
    "print logger.shouldPrintMessage(3,\"foo\")\n",
    "\n",
    "print logger.shouldPrintMessage(8,\"bar\")\n",
    "\n",
    "print logger.shouldPrintMessage(10,\"foo\")\n",
    "\n",
    "print  logger.shouldPrintMessage(11,\"foo\")\n",
    "\n",
    "        \n",
    "        \n"
   ]
  },
  {
   "cell_type": "code",
   "execution_count": 6,
   "metadata": {
    "collapsed": false
   },
   "outputs": [
    {
     "name": "stdout",
     "output_type": "stream",
     "text": [
      "1.0\n",
      "5.5\n",
      "4.66666666667\n",
      "6.0\n"
     ]
    }
   ],
   "source": [
    "from collections import deque\n",
    "\n",
    "#Moving Average from Data Stream\n",
    "#Given a stream of integers and a window size, calculate the moving average of all integers in the sliding window.\n",
    "\n",
    "# https://leetcode.com/problems/moving-average-from-data-stream/description/\n",
    "\n",
    "\n",
    "class MovingAverage:\n",
    "    \n",
    "    def __init__(self, length):\n",
    "        self.queue = deque()\n",
    "        self.length = length\n",
    "        \n",
    "    \n",
    "    def next(self, num):\n",
    "        if len(self.queue) >= self.length:\n",
    "            self.queue.popleft()\n",
    "        \n",
    "        self.queue.append(num)\n",
    "        \n",
    "        return 1.0*sum(self.queue)/len(self.queue)\n",
    "    \n",
    "    \n",
    "\n",
    "\n",
    "m = MovingAverage(3)\n",
    "\n",
    "print m.next(1) \n",
    "print m.next(10)\n",
    "print m.next(3) \n",
    "print m.next(5) "
   ]
  },
  {
   "cell_type": "code",
   "execution_count": 15,
   "metadata": {
    "collapsed": false
   },
   "outputs": [
    {
     "name": "stdout",
     "output_type": "stream",
     "text": [
      "defaultdict(<type 'list'>, {0: [1], 1: [None]})\n",
      "[1]\n"
     ]
    }
   ],
   "source": [
    "from collections import defaultdict, deque\n",
    "def kill_process(pids, ppids, start):\n",
    "    res_dict = defaultdict(list)\n",
    "    \n",
    "    \n",
    "    for x in xrange(len(pids)):\n",
    "        res_dict[ppids[x]].append(pids[x])\n",
    "        \n",
    "        if pids[x] not in res_dict:\n",
    "            res_dict[pids[x]].append(None)\n",
    "    \n",
    "    print res_dict\n",
    "    res = []\n",
    "    \n",
    "    queue= deque()\n",
    "    \n",
    "    if start in res_dict:\n",
    "        queue.append(start)\n",
    "    \n",
    "    while queue:\n",
    "        temp = queue.pop()\n",
    "        \n",
    "        if temp is not None:\n",
    "            res.append(temp)\n",
    "        \n",
    "        if temp in res_dict:\n",
    "            for x in res_dict[temp]:\n",
    "                queue.append(x)\n",
    "                \n",
    "    \n",
    "    return res\n",
    "\n",
    "print kill_process([1], [0] , 1)\n",
    "        "
   ]
  },
  {
   "cell_type": "code",
   "execution_count": null,
   "metadata": {
    "collapsed": true
   },
   "outputs": [],
   "source": [
    "def max_subarray_sum_with_index(arr):\n",
    "    max_here = 0\n",
    "    max_so_far = float('-inf')\n",
    "    \n",
    "    for x in arr:\n",
    "        max_here "
   ]
  }
 ],
 "metadata": {
  "kernelspec": {
   "display_name": "Python 2",
   "language": "python",
   "name": "python2"
  },
  "language_info": {
   "codemirror_mode": {
    "name": "ipython",
    "version": 2
   },
   "file_extension": ".py",
   "mimetype": "text/x-python",
   "name": "python",
   "nbconvert_exporter": "python",
   "pygments_lexer": "ipython2",
   "version": "2.7.12"
  }
 },
 "nbformat": 4,
 "nbformat_minor": 2
}
